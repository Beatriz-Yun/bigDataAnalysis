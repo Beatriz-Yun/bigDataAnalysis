{
  "nbformat": 4,
  "nbformat_minor": 0,
  "metadata": {
    "colab": {
      "name": "데이터분석절차.ipynb",
      "provenance": [],
      "mount_file_id": "1b__Ej7atXsBUdU_h78K08A4gfpD9S-6F",
      "authorship_tag": "ABX9TyNUrVZLWnfUwDe7SWj+xNOS",
      "include_colab_link": true
    },
    "kernelspec": {
      "name": "python3",
      "display_name": "Python 3"
    },
    "language_info": {
      "name": "python"
    }
  },
  "cells": [
    {
      "cell_type": "markdown",
      "metadata": {
        "id": "view-in-github",
        "colab_type": "text"
      },
      "source": [
        "<a href=\"https://colab.research.google.com/github/Beatriz-Yun/bigDataAnalysis/blob/main/%EB%8D%B0%EC%9D%B4%ED%84%B0%EB%B6%84%EC%84%9D%EC%A0%88%EC%B0%A8.ipynb\" target=\"_parent\"><img src=\"https://colab.research.google.com/assets/colab-badge.svg\" alt=\"Open In Colab\"/></a>"
      ]
    },
    {
      "cell_type": "code",
      "metadata": {
        "colab": {
          "base_uri": "https://localhost:8080/"
        },
        "id": "lUlQx1hDlE5w",
        "outputId": "cdb9c3e9-b1fb-4858-e7e9-28535f17d222"
      },
      "source": [
        "!git clone https://github.com/7ieon/bigData.git"
      ],
      "execution_count": 1,
      "outputs": [
        {
          "output_type": "stream",
          "name": "stdout",
          "text": [
            "Cloning into 'bigData'...\n",
            "remote: Enumerating objects: 13, done.\u001b[K\n",
            "remote: Counting objects: 100% (13/13), done.\u001b[K\n",
            "remote: Compressing objects: 100% (13/13), done.\u001b[K\n",
            "remote: Total 13 (delta 0), reused 0 (delta 0), pack-reused 0\u001b[K\n",
            "Unpacking objects: 100% (13/13), done.\n"
          ]
        }
      ]
    },
    {
      "cell_type": "markdown",
      "metadata": {
        "id": "5A-TCoA7mFew"
      },
      "source": [
        "## 데이터 분석 절차\n",
        "\n",
        "1. 데이터 준비하기\n",
        "2. 데이터 관찰하고 가공하기\n",
        "3. 데이터 분리하기\n",
        "4. 학습시키고 평가하기\n",
        "5. 결과 출력하고 저장하기"
      ]
    },
    {
      "cell_type": "markdown",
      "metadata": {
        "id": "JqAH8LFImzO2"
      },
      "source": [
        "### 데이터 준비하기 (Load)"
      ]
    },
    {
      "cell_type": "code",
      "metadata": {
        "id": "KkIYHZs8lNuq"
      },
      "source": [
        "import pandas as pd\n",
        "\n",
        "data = pd.read_csv('/content/bigData/mtcars.csv')"
      ],
      "execution_count": 2,
      "outputs": []
    },
    {
      "cell_type": "code",
      "metadata": {
        "colab": {
          "base_uri": "https://localhost:8080/"
        },
        "id": "81iFMptrm9Z9",
        "outputId": "c9cb29f1-851d-4278-a8d5-552a453900aa"
      },
      "source": [
        "print(data.head())"
      ],
      "execution_count": 3,
      "outputs": [
        {
          "output_type": "stream",
          "name": "stdout",
          "text": [
            "          Unnamed: 0   mpg  cyl   disp   hp  ...   qsec  vs      am  gear carb\n",
            "0          Mazda RX4  21.0  6.0  160.0  110  ...  16.46   0  manual     4    4\n",
            "1      Mazda RX4 Wag  21.0  6.0  160.0  110  ...  17.02   0  manual     4    4\n",
            "2         Datsun 710  22.8  4.0  108.0   93  ...  18.61   1  manual     4    1\n",
            "3     Hornet 4 Drive  21.4  6.0  258.0  110  ...   0.10   1    auto     3    1\n",
            "4  Hornet Sportabout  18.7  8.0  360.0  175  ...  17.02   0    auto     3    2\n",
            "\n",
            "[5 rows x 12 columns]\n"
          ]
        }
      ]
    },
    {
      "cell_type": "code",
      "metadata": {
        "colab": {
          "base_uri": "https://localhost:8080/"
        },
        "id": "VEmNWTwTnMI1",
        "outputId": "f8492ac4-8dd6-4c3f-dba8-75ec95e65d49"
      },
      "source": [
        "print(data.shape)"
      ],
      "execution_count": 4,
      "outputs": [
        {
          "output_type": "stream",
          "name": "stdout",
          "text": [
            "(32, 12)\n"
          ]
        }
      ]
    },
    {
      "cell_type": "code",
      "metadata": {
        "colab": {
          "base_uri": "https://localhost:8080/"
        },
        "id": "GryYpcOTnQht",
        "outputId": "be06f67f-084b-4eed-ba74-bf30bcb4fd13"
      },
      "source": [
        "print(type(data))"
      ],
      "execution_count": 5,
      "outputs": [
        {
          "output_type": "stream",
          "name": "stdout",
          "text": [
            "<class 'pandas.core.frame.DataFrame'>\n"
          ]
        }
      ]
    },
    {
      "cell_type": "code",
      "metadata": {
        "colab": {
          "base_uri": "https://localhost:8080/"
        },
        "id": "eb8rgGU5nWeV",
        "outputId": "3e2cded5-8e9b-4e91-fbb9-34447eee8361"
      },
      "source": [
        "print(data.columns)"
      ],
      "execution_count": 6,
      "outputs": [
        {
          "output_type": "stream",
          "name": "stdout",
          "text": [
            "Index(['Unnamed: 0', 'mpg', 'cyl', 'disp', 'hp', 'drat', 'wt', 'qsec', 'vs',\n",
            "       'am', 'gear', 'carb'],\n",
            "      dtype='object')\n"
          ]
        }
      ]
    },
    {
      "cell_type": "code",
      "metadata": {
        "colab": {
          "base_uri": "https://localhost:8080/"
        },
        "id": "KSVOuSpOncgl",
        "outputId": "187e4123-c769-475b-cec1-01f1062f47a5"
      },
      "source": [
        "print(data.describe())    # 기초통계량(데이터개수, 평균, 표준편차, 최솟값, 사분위수, 최댓값)"
      ],
      "execution_count": 7,
      "outputs": [
        {
          "output_type": "stream",
          "name": "stdout",
          "text": [
            "             mpg        cyl        disp  ...        qsec         vs     carb\n",
            "count  32.000000  30.000000   32.000000  ...   31.000000  32.000000  32.0000\n",
            "mean   20.090625   7.600000  230.721875  ...   19.866774   0.437500   2.8125\n",
            "std     6.026948   8.194195  123.938694  ...   15.310469   0.504016   1.6152\n",
            "min    10.400000   4.000000   71.100000  ...    0.100000   0.000000   1.0000\n",
            "25%    15.425000   4.000000  120.825000  ...   16.785000   0.000000   2.0000\n",
            "50%    19.200000   6.000000  196.300000  ...   17.600000   0.000000   2.0000\n",
            "75%    22.800000   8.000000  326.000000  ...   18.755000   1.000000   4.0000\n",
            "max    33.900000  50.000000  472.000000  ...  100.000000   1.000000   8.0000\n",
            "\n",
            "[8 rows x 9 columns]\n"
          ]
        }
      ]
    },
    {
      "cell_type": "code",
      "metadata": {
        "colab": {
          "base_uri": "https://localhost:8080/"
        },
        "id": "FJJqumVEnuwt",
        "outputId": "d516b99a-5b59-406d-e335-63a92df76daf"
      },
      "source": [
        "print(data['hp'].describe())    # 특정 열에 대한 기초통계량"
      ],
      "execution_count": 8,
      "outputs": [
        {
          "output_type": "stream",
          "name": "stdout",
          "text": [
            "count     32.000000\n",
            "mean     146.687500\n",
            "std       68.562868\n",
            "min       52.000000\n",
            "25%       96.500000\n",
            "50%      123.000000\n",
            "75%      180.000000\n",
            "max      335.000000\n",
            "Name: hp, dtype: float64\n"
          ]
        }
      ]
    },
    {
      "cell_type": "code",
      "metadata": {
        "colab": {
          "base_uri": "https://localhost:8080/"
        },
        "id": "a9E2mcKeo0sw",
        "outputId": "5e91e5f8-75a6-427d-cca2-0fcb8c10b807"
      },
      "source": [
        "print(data['am'].unique())"
      ],
      "execution_count": 9,
      "outputs": [
        {
          "output_type": "stream",
          "name": "stdout",
          "text": [
            "['manual' 'auto']\n"
          ]
        }
      ]
    },
    {
      "cell_type": "code",
      "metadata": {
        "colab": {
          "base_uri": "https://localhost:8080/"
        },
        "id": "sP6pF6dqo4n1",
        "outputId": "8faea1ac-3d38-407e-95b7-76a5c90f6606"
      },
      "source": [
        "print(data['gear'].unique())"
      ],
      "execution_count": 10,
      "outputs": [
        {
          "output_type": "stream",
          "name": "stdout",
          "text": [
            "['4' '3' '*3' '5' '*5']\n"
          ]
        }
      ]
    },
    {
      "cell_type": "code",
      "metadata": {
        "colab": {
          "base_uri": "https://localhost:8080/"
        },
        "id": "MM7ooBK6o8D0",
        "outputId": "8238c3d8-cd81-4de8-bb1f-e1633f6ab5cb"
      },
      "source": [
        "print(data['vs'].unique())"
      ],
      "execution_count": 11,
      "outputs": [
        {
          "output_type": "stream",
          "name": "stdout",
          "text": [
            "[0 1]\n"
          ]
        }
      ]
    },
    {
      "cell_type": "code",
      "metadata": {
        "colab": {
          "base_uri": "https://localhost:8080/"
        },
        "id": "x0R-5w0vpZrm",
        "outputId": "9aa31f39-70be-4fc4-c004-b5f15e2481a0"
      },
      "source": [
        "print(data.info())    # 요약정보 (전체데이터크기, Null값의 개수) --> 범주형/수치형 변수 예상 가능"
      ],
      "execution_count": 13,
      "outputs": [
        {
          "output_type": "stream",
          "name": "stdout",
          "text": [
            "<class 'pandas.core.frame.DataFrame'>\n",
            "RangeIndex: 32 entries, 0 to 31\n",
            "Data columns (total 12 columns):\n",
            " #   Column      Non-Null Count  Dtype  \n",
            "---  ------      --------------  -----  \n",
            " 0   Unnamed: 0  32 non-null     object \n",
            " 1   mpg         32 non-null     float64\n",
            " 2   cyl         30 non-null     float64\n",
            " 3   disp        32 non-null     float64\n",
            " 4   hp          32 non-null     int64  \n",
            " 5   drat        32 non-null     float64\n",
            " 6   wt          32 non-null     float64\n",
            " 7   qsec        31 non-null     float64\n",
            " 8   vs          32 non-null     int64  \n",
            " 9   am          32 non-null     object \n",
            " 10  gear        32 non-null     object \n",
            " 11  carb        32 non-null     int64  \n",
            "dtypes: float64(6), int64(3), object(3)\n",
            "memory usage: 3.1+ KB\n",
            "None\n"
          ]
        }
      ]
    },
    {
      "cell_type": "code",
      "metadata": {
        "colab": {
          "base_uri": "https://localhost:8080/"
        },
        "id": "aak4MJ5Np1p6",
        "outputId": "5de68ebd-4dec-443f-b182-8452d9cef483"
      },
      "source": [
        "print(data.corr())    # 상관관계 --> 분석대상에 포함할 변수를 판단, 데이터의 특징을 이해하는 과정에 이용"
      ],
      "execution_count": 14,
      "outputs": [
        {
          "output_type": "stream",
          "name": "stdout",
          "text": [
            "           mpg       cyl      disp  ...      qsec        vs      carb\n",
            "mpg   1.000000 -0.460227 -0.847551  ...  0.013668  0.664039 -0.550925\n",
            "cyl  -0.460227  1.000000  0.544876  ... -0.012755 -0.323960  0.239980\n",
            "disp -0.847551  0.544876  1.000000  ...  0.181810 -0.710416  0.394977\n",
            "hp   -0.776168  0.323293  0.790949  ...  0.010807 -0.723097  0.749812\n",
            "drat  0.681172 -0.372671 -0.710214  ... -0.120283  0.440278 -0.090790\n",
            "wt   -0.867659  0.533690  0.887980  ...  0.093900 -0.554916  0.427606\n",
            "qsec  0.013668 -0.012755  0.181810  ...  1.000000 -0.112146 -0.120312\n",
            "vs    0.664039 -0.323960 -0.710416  ... -0.112146  1.000000 -0.569607\n",
            "carb -0.550925  0.239980  0.394977  ... -0.120312 -0.569607  1.000000\n",
            "\n",
            "[9 rows x 9 columns]\n"
          ]
        }
      ]
    },
    {
      "cell_type": "markdown",
      "metadata": {
        "id": "eXjtBVRBrKB-"
      },
      "source": [
        "#### 종속변수와 독립변수 분리하기\n",
        "\n",
        "실제 시험에서는 종속변수와 독립변수를 명확히 정해주므로, 종속변수 결정에 대한 고민은 하지 않아도 됨.\n",
        "\n",
        "<br>\n",
        "\n",
        "예제 데이터에서 연속형 변수인 mpg열을 종속변수, 그 외의 열들을 독립변수로 구성한다."
      ]
    },
    {
      "cell_type": "code",
      "metadata": {
        "id": "N4wJqSumrMXH"
      },
      "source": [
        "X = data.drop(columns='mpg')\n",
        "Y = data['mpg']"
      ],
      "execution_count": 15,
      "outputs": []
    },
    {
      "cell_type": "code",
      "metadata": {
        "colab": {
          "base_uri": "https://localhost:8080/"
        },
        "id": "4ZbfkW0-r23s",
        "outputId": "002d7df7-ed64-417c-b5de-a3e4905ab741"
      },
      "source": [
        "print(X.head())"
      ],
      "execution_count": 16,
      "outputs": [
        {
          "output_type": "stream",
          "name": "stdout",
          "text": [
            "          Unnamed: 0  cyl   disp   hp  drat  ...   qsec  vs      am gear carb\n",
            "0          Mazda RX4  6.0  160.0  110  3.90  ...  16.46   0  manual    4    4\n",
            "1      Mazda RX4 Wag  6.0  160.0  110  3.90  ...  17.02   0  manual    4    4\n",
            "2         Datsun 710  4.0  108.0   93  3.85  ...  18.61   1  manual    4    1\n",
            "3     Hornet 4 Drive  6.0  258.0  110  3.08  ...   0.10   1    auto    3    1\n",
            "4  Hornet Sportabout  8.0  360.0  175  3.15  ...  17.02   0    auto    3    2\n",
            "\n",
            "[5 rows x 11 columns]\n"
          ]
        }
      ]
    },
    {
      "cell_type": "code",
      "metadata": {
        "colab": {
          "base_uri": "https://localhost:8080/"
        },
        "id": "B3R-g2oyr4sy",
        "outputId": "ac64d300-e4d5-49b2-ddb0-f7258a8f982d"
      },
      "source": [
        "print(X.columns)"
      ],
      "execution_count": 17,
      "outputs": [
        {
          "output_type": "stream",
          "name": "stdout",
          "text": [
            "Index(['Unnamed: 0', 'cyl', 'disp', 'hp', 'drat', 'wt', 'qsec', 'vs', 'am',\n",
            "       'gear', 'carb'],\n",
            "      dtype='object')\n"
          ]
        }
      ]
    },
    {
      "cell_type": "code",
      "metadata": {
        "colab": {
          "base_uri": "https://localhost:8080/"
        },
        "id": "OnPevslJtHqH",
        "outputId": "7ae71cc8-0db2-4d34-c778-572f81ea2a6f"
      },
      "source": [
        "print(Y.head())"
      ],
      "execution_count": 18,
      "outputs": [
        {
          "output_type": "stream",
          "name": "stdout",
          "text": [
            "0    21.0\n",
            "1    21.0\n",
            "2    22.8\n",
            "3    21.4\n",
            "4    18.7\n",
            "Name: mpg, dtype: float64\n"
          ]
        }
      ]
    },
    {
      "cell_type": "markdown",
      "metadata": {
        "id": "_k4NX-TQtN2P"
      },
      "source": [
        "### 데이터를 관찰하고 가공하기 (전처리)\n",
        "\n",
        "독립변수 X를 자세히 뜯어보고 관찰 후, 주어진 데이터를 보다 잘 표현할 수 있는 형태로 변형할 것이다. <br>\n",
        "=> 피쳐 엔지니어링(feature engineering)\n",
        "\n",
        "<br>\n",
        "\n",
        "수많은 전처리 작업 중 주로 사용하는 몇가지들\n",
        "- 필요하지 않은 열 삭제\n",
        "- 누락된 값 채우거나 삭제\n",
        "- 잘못된 값 수정\n",
        "- 이상치 조정\n",
        "- 각 열들의 숫자값을 동일한 범위의 숫자로 변경(정규화)\n",
        "- 적절한 데이터타입으로 변환\n",
        "- 문자로 구성된 범주형 데이터를 숫자형으로 변경\n",
        "- 분석에 필요한 새로운 열을 생성\n",
        "\n",
        "<br>\n",
        "\n",
        "> 이밖에도 다른 전처리 방법, 피처 엔지니어링 방법(비닝, 로그 변환 등)이 있으나, 시각화없이 **단순한 전처리** 작업들만으로 합격하기 충분한 수준임."
      ]
    },
    {
      "cell_type": "markdown",
      "metadata": {
        "id": "fEVS4O5YxFLz"
      },
      "source": [
        "#### 1.불필요한 열 삭제하기"
      ]
    },
    {
      "cell_type": "code",
      "metadata": {
        "colab": {
          "base_uri": "https://localhost:8080/"
        },
        "id": "aOotAnfZtI6P",
        "outputId": "08752545-5d0a-4eee-bb0a-d00eb8a854dc"
      },
      "source": [
        "print(X.head())"
      ],
      "execution_count": 19,
      "outputs": [
        {
          "output_type": "stream",
          "name": "stdout",
          "text": [
            "          Unnamed: 0  cyl   disp   hp  drat  ...   qsec  vs      am gear carb\n",
            "0          Mazda RX4  6.0  160.0  110  3.90  ...  16.46   0  manual    4    4\n",
            "1      Mazda RX4 Wag  6.0  160.0  110  3.90  ...  17.02   0  manual    4    4\n",
            "2         Datsun 710  4.0  108.0   93  3.85  ...  18.61   1  manual    4    1\n",
            "3     Hornet 4 Drive  6.0  258.0  110  3.08  ...   0.10   1    auto    3    1\n",
            "4  Hornet Sportabout  8.0  360.0  175  3.15  ...  17.02   0    auto    3    2\n",
            "\n",
            "[5 rows x 11 columns]\n"
          ]
        }
      ]
    },
    {
      "cell_type": "code",
      "metadata": {
        "id": "ocHFxA8du524"
      },
      "source": [
        "X = X.iloc[:, 1:]    # 첫 번째 열 제거"
      ],
      "execution_count": 20,
      "outputs": []
    },
    {
      "cell_type": "code",
      "metadata": {
        "colab": {
          "base_uri": "https://localhost:8080/"
        },
        "id": "iqqb6R1svAL5",
        "outputId": "5f8afc9e-b077-430b-addf-ec40f64c4680"
      },
      "source": [
        "print(X.head())"
      ],
      "execution_count": 21,
      "outputs": [
        {
          "output_type": "stream",
          "name": "stdout",
          "text": [
            "   cyl   disp   hp  drat     wt   qsec  vs      am gear  carb\n",
            "0  6.0  160.0  110  3.90  2.620  16.46   0  manual    4     4\n",
            "1  6.0  160.0  110  3.90  2.875  17.02   0  manual    4     4\n",
            "2  4.0  108.0   93  3.85  2.320  18.61   1  manual    4     1\n",
            "3  6.0  258.0  110  3.08  3.215   0.10   1    auto    3     1\n",
            "4  8.0  360.0  175  3.15  3.440  17.02   0    auto    3     2\n"
          ]
        }
      ]
    },
    {
      "cell_type": "markdown",
      "metadata": {
        "id": "BY3_iRURxSnm"
      },
      "source": [
        "#### 2.결측값 처리하기"
      ]
    },
    {
      "cell_type": "code",
      "metadata": {
        "colab": {
          "base_uri": "https://localhost:8080/"
        },
        "id": "Raqmvc1wvIg5",
        "outputId": "f4e95c3e-6253-4f0b-e3fb-be06d24dc2b0"
      },
      "source": [
        "print(X.isnull().sum())    # 각 열에 있는 결측치 개수 세기"
      ],
      "execution_count": 23,
      "outputs": [
        {
          "output_type": "stream",
          "name": "stdout",
          "text": [
            "cyl     2\n",
            "disp    0\n",
            "hp      0\n",
            "drat    0\n",
            "wt      0\n",
            "qsec    1\n",
            "vs      0\n",
            "am      0\n",
            "gear    0\n",
            "carb    0\n",
            "dtype: int64\n"
          ]
        }
      ]
    },
    {
      "cell_type": "code",
      "metadata": {
        "colab": {
          "base_uri": "https://localhost:8080/"
        },
        "id": "Z9K-097hvawr",
        "outputId": "5e7c09cb-fa9a-49c3-edf7-5cedbf5719f8"
      },
      "source": [
        "X_cyl_mean = X['cyl'].mean()    # 특정 열 값들의 평균\n",
        "\n",
        "print(X_cyl_mean)"
      ],
      "execution_count": 24,
      "outputs": [
        {
          "output_type": "stream",
          "name": "stdout",
          "text": [
            "7.6\n"
          ]
        }
      ]
    },
    {
      "cell_type": "code",
      "metadata": {
        "id": "eRN2iM8Avu8s"
      },
      "source": [
        "X['cyl'] = X['cyl'].fillna(X_cyl_mean)    # 평균값으로 결측치 채우기"
      ],
      "execution_count": 27,
      "outputs": []
    },
    {
      "cell_type": "code",
      "metadata": {
        "colab": {
          "base_uri": "https://localhost:8080/"
        },
        "id": "89sWG4cjwGl2",
        "outputId": "2fe623cc-0260-4b78-ad47-db7bc3a1bc1e"
      },
      "source": [
        "print(X.isnull().sum())    # 'cyl'열에 결측치 제거됨."
      ],
      "execution_count": 28,
      "outputs": [
        {
          "output_type": "stream",
          "name": "stdout",
          "text": [
            "cyl     0\n",
            "disp    0\n",
            "hp      0\n",
            "drat    0\n",
            "wt      0\n",
            "qsec    1\n",
            "vs      0\n",
            "am      0\n",
            "gear    0\n",
            "carb    0\n",
            "dtype: int64\n"
          ]
        }
      ]
    },
    {
      "cell_type": "code",
      "metadata": {
        "colab": {
          "base_uri": "https://localhost:8080/"
        },
        "id": "mXzY1bCxwV7c",
        "outputId": "31d14295-42b3-4f68-95cd-15611a033337"
      },
      "source": [
        "X_qsec_median = X['qsec'].median()    # 특정 열 값들의 중위값\n",
        "\n",
        "print(X_qsec_median)"
      ],
      "execution_count": 29,
      "outputs": [
        {
          "output_type": "stream",
          "name": "stdout",
          "text": [
            "17.6\n"
          ]
        }
      ]
    },
    {
      "cell_type": "code",
      "metadata": {
        "id": "K0STplQPwinl"
      },
      "source": [
        "X['qsec'] = X['qsec'].fillna(X_qsec_median)    # 중위값으로 결측치 채우기"
      ],
      "execution_count": 30,
      "outputs": []
    },
    {
      "cell_type": "code",
      "metadata": {
        "colab": {
          "base_uri": "https://localhost:8080/"
        },
        "id": "9PkHdJMUwrA6",
        "outputId": "a5ea9bd7-fbf5-4df6-dcd7-234ab8a927f9"
      },
      "source": [
        "print(X.isnull().sum())    # 결측치 모두 제거됨"
      ],
      "execution_count": 32,
      "outputs": [
        {
          "output_type": "stream",
          "name": "stdout",
          "text": [
            "cyl     0\n",
            "disp    0\n",
            "hp      0\n",
            "drat    0\n",
            "wt      0\n",
            "qsec    0\n",
            "vs      0\n",
            "am      0\n",
            "gear    0\n",
            "carb    0\n",
            "dtype: int64\n"
          ]
        }
      ]
    },
    {
      "cell_type": "markdown",
      "metadata": {
        "id": "1gOSpYtNxXhJ"
      },
      "source": [
        "#### 3.잘못된 값을 올바르게 바꾸기"
      ]
    },
    {
      "cell_type": "code",
      "metadata": {
        "colab": {
          "base_uri": "https://localhost:8080/"
        },
        "id": "DYIkzZ-sxBuv",
        "outputId": "1940df6a-b84f-4316-bedf-127547cf0f56"
      },
      "source": [
        "print(X['gear'].unique())"
      ],
      "execution_count": 33,
      "outputs": [
        {
          "output_type": "stream",
          "name": "stdout",
          "text": [
            "['4' '3' '*3' '5' '*5']\n"
          ]
        }
      ]
    },
    {
      "cell_type": "code",
      "metadata": {
        "colab": {
          "base_uri": "https://localhost:8080/"
        },
        "id": "EMmg99MQ2Vn0",
        "outputId": "951ad0a0-4bc8-4f3f-b730-9c15eb6433b2"
      },
      "source": [
        "print(X['gear'].replace('*3','3').replace('*5','5'))"
      ],
      "execution_count": 34,
      "outputs": [
        {
          "output_type": "stream",
          "name": "stdout",
          "text": [
            "0     4\n",
            "1     4\n",
            "2     4\n",
            "3     3\n",
            "4     3\n",
            "5     3\n",
            "6     3\n",
            "7     4\n",
            "8     4\n",
            "9     4\n",
            "10    4\n",
            "11    3\n",
            "12    3\n",
            "13    3\n",
            "14    3\n",
            "15    3\n",
            "16    3\n",
            "17    4\n",
            "18    4\n",
            "19    4\n",
            "20    3\n",
            "21    3\n",
            "22    3\n",
            "23    3\n",
            "24    3\n",
            "25    4\n",
            "26    5\n",
            "27    5\n",
            "28    5\n",
            "29    5\n",
            "30    5\n",
            "31    4\n",
            "Name: gear, dtype: object\n"
          ]
        }
      ]
    },
    {
      "cell_type": "code",
      "metadata": {
        "id": "a6063mxb2xBQ"
      },
      "source": [
        "X['gear'] = X['gear'].replace('*3','3').replace('*5','5')    # replace한 결과를 원하는 열에 저장"
      ],
      "execution_count": 35,
      "outputs": []
    },
    {
      "cell_type": "code",
      "metadata": {
        "colab": {
          "base_uri": "https://localhost:8080/"
        },
        "id": "P7VPiGyc2xKw",
        "outputId": "a71eaaa5-a826-4181-d3b4-6450fc311d7c"
      },
      "source": [
        "print(X['gear'].unique())"
      ],
      "execution_count": 36,
      "outputs": [
        {
          "output_type": "stream",
          "name": "stdout",
          "text": [
            "['4' '3' '5']\n"
          ]
        }
      ]
    },
    {
      "cell_type": "markdown",
      "metadata": {
        "id": "of1vcT7K3POM"
      },
      "source": [
        "#### 4.이상값 처리하기\n",
        "\n",
        "- 이상값 처리는 데이터 스케일링보다 선행되어야 한다. 데이터 스케일링 이후에 이상값을 처리하면 데이터 분포가 왜곡되거나 데이터 스케일링 수행이 다시 필요할 수 있다.\n",
        "- 이상값 처리 방식 중 다른 값으로 교체하는 것을 추천! 최종 제출해야하는 결과 개수가 달라지기 때문."
      ]
    },
    {
      "cell_type": "markdown",
      "metadata": {
        "id": "BjsE95uWG2qK"
      },
      "source": [
        "##### 방법1. 사분범위(IQR) 활용\n",
        "\n",
        "- 최소경계값 = Q1 - 1.5*IQR\n",
        "- 최대경계값 = Q3 + 1.5*IQR"
      ]
    },
    {
      "cell_type": "code",
      "metadata": {
        "colab": {
          "base_uri": "https://localhost:8080/"
        },
        "id": "_byzctD23Ufw",
        "outputId": "c4573d18-7943-4808-b9a9-ef150b46544f"
      },
      "source": [
        "X_describe = X.describe()    # 기초통계량 저장\n",
        "\n",
        "print(X_describe)"
      ],
      "execution_count": 37,
      "outputs": [
        {
          "output_type": "stream",
          "name": "stdout",
          "text": [
            "             cyl        disp          hp  ...        qsec         vs     carb\n",
            "count  32.000000   32.000000   32.000000  ...   32.000000  32.000000  32.0000\n",
            "mean    7.600000  230.721875  146.687500  ...   19.795938   0.437500   2.8125\n",
            "std     7.925459  123.938694   68.562868  ...   15.066831   0.504016   1.6152\n",
            "min     4.000000   71.100000   52.000000  ...    0.100000   0.000000   1.0000\n",
            "25%     4.000000  120.825000   96.500000  ...   16.827500   0.000000   2.0000\n",
            "50%     6.000000  196.300000  123.000000  ...   17.600000   0.000000   2.0000\n",
            "75%     8.000000  326.000000  180.000000  ...   18.682500   1.000000   4.0000\n",
            "max    50.000000  472.000000  335.000000  ...  100.000000   1.000000   8.0000\n",
            "\n",
            "[8 rows x 8 columns]\n"
          ]
        }
      ]
    },
    {
      "cell_type": "code",
      "metadata": {
        "colab": {
          "base_uri": "https://localhost:8080/"
        },
        "id": "TP6rNhlyCwoH",
        "outputId": "fc340d8d-be25-4b8d-9966-ee17e928a863"
      },
      "source": [
        "print(X_describe.loc['75%'], X_describe.loc['25%'])    # 3사분위수와 1사분위수"
      ],
      "execution_count": 38,
      "outputs": [
        {
          "output_type": "stream",
          "name": "stdout",
          "text": [
            "cyl       8.0000\n",
            "disp    326.0000\n",
            "hp      180.0000\n",
            "drat      3.9200\n",
            "wt        3.6100\n",
            "qsec     18.6825\n",
            "vs        1.0000\n",
            "carb      4.0000\n",
            "Name: 75%, dtype: float64 cyl       4.00000\n",
            "disp    120.82500\n",
            "hp       96.50000\n",
            "drat      3.08000\n",
            "wt        2.58125\n",
            "qsec     16.82750\n",
            "vs        0.00000\n",
            "carb      2.00000\n",
            "Name: 25%, dtype: float64\n"
          ]
        }
      ]
    },
    {
      "cell_type": "code",
      "metadata": {
        "colab": {
          "base_uri": "https://localhost:8080/"
        },
        "id": "pcNBfoygDG2-",
        "outputId": "2abbe577-4487-4ac2-d9a0-05ecd539cbdb"
      },
      "source": [
        "X_iqr = X_describe.loc['75%'] - X_describe.loc['25%']\n",
        "\n",
        "print(X_iqr)    # 사분범위(IQR)"
      ],
      "execution_count": 39,
      "outputs": [
        {
          "output_type": "stream",
          "name": "stdout",
          "text": [
            "cyl       4.00000\n",
            "disp    205.17500\n",
            "hp       83.50000\n",
            "drat      0.84000\n",
            "wt        1.02875\n",
            "qsec      1.85500\n",
            "vs        1.00000\n",
            "carb      2.00000\n",
            "dtype: float64\n"
          ]
        }
      ]
    },
    {
      "cell_type": "code",
      "metadata": {
        "colab": {
          "base_uri": "https://localhost:8080/"
        },
        "id": "BnETJ3JqDkva",
        "outputId": "99d1b8dc-b325-445e-db33-89d55c76fe1a"
      },
      "source": [
        "print(X_describe.loc['75%'] + 1.5*X_iqr)    # 최댓값 경계"
      ],
      "execution_count": 41,
      "outputs": [
        {
          "output_type": "stream",
          "name": "stdout",
          "text": [
            "cyl      14.000000\n",
            "disp    633.762500\n",
            "hp      305.250000\n",
            "drat      5.180000\n",
            "wt        5.153125\n",
            "qsec     21.465000\n",
            "vs        2.500000\n",
            "carb      7.000000\n",
            "dtype: float64\n"
          ]
        }
      ]
    },
    {
      "cell_type": "code",
      "metadata": {
        "colab": {
          "base_uri": "https://localhost:8080/"
        },
        "id": "jDnaHkG3EG6A",
        "outputId": "51605a90-4de3-4c01-b226-484c1ad69867"
      },
      "source": [
        "print(X_describe.loc['max'])    # 최댓값 확인  --> 'cyl','hp','qsec','carb'열에 이상치 존재함."
      ],
      "execution_count": 42,
      "outputs": [
        {
          "output_type": "stream",
          "name": "stdout",
          "text": [
            "cyl      50.000\n",
            "disp    472.000\n",
            "hp      335.000\n",
            "drat      4.930\n",
            "wt        5.424\n",
            "qsec    100.000\n",
            "vs        1.000\n",
            "carb      8.000\n",
            "Name: max, dtype: float64\n"
          ]
        }
      ]
    },
    {
      "cell_type": "code",
      "metadata": {
        "colab": {
          "base_uri": "https://localhost:8080/"
        },
        "id": "EUzMqW8qEgFl",
        "outputId": "bcf5ccd7-6d91-4ee7-9cd0-ffdab77a9aa9"
      },
      "source": [
        "print(X.loc[X['cyl']>14])    # 'cyl'열의 이상치 출력"
      ],
      "execution_count": 44,
      "outputs": [
        {
          "output_type": "stream",
          "name": "stdout",
          "text": [
            "     cyl   disp   hp  drat    wt   qsec  vs    am gear  carb\n",
            "14  50.0  472.0  205  2.93  5.25  17.98   0  auto    3     4\n"
          ]
        }
      ]
    },
    {
      "cell_type": "code",
      "metadata": {
        "colab": {
          "base_uri": "https://localhost:8080/"
        },
        "id": "hubk9XfgFbRw",
        "outputId": "bf57e682-c6bc-4252-b82a-905481d8b74f"
      },
      "source": [
        "X.loc[14, 'cyl'] = 14    # index:14, column:'cyl'인 데이터에 최대 경계값 14로 대치\n",
        "\n",
        "print(X.loc[14, 'cyl'])"
      ],
      "execution_count": 45,
      "outputs": [
        {
          "output_type": "stream",
          "name": "stdout",
          "text": [
            "14.0\n"
          ]
        }
      ]
    },
    {
      "cell_type": "code",
      "metadata": {
        "colab": {
          "base_uri": "https://localhost:8080/"
        },
        "id": "HVvyv4MiFvzB",
        "outputId": "b07d8b94-ac0f-4cd7-ecca-c96b9f7d5569"
      },
      "source": [
        "print(X.loc[X['hp']>305.25])"
      ],
      "execution_count": 47,
      "outputs": [
        {
          "output_type": "stream",
          "name": "stdout",
          "text": [
            "    cyl   disp   hp  drat    wt  qsec  vs      am gear  carb\n",
            "30  8.0  301.0  335  3.54  3.57  14.6   0  manual    5     8\n"
          ]
        }
      ]
    },
    {
      "cell_type": "code",
      "metadata": {
        "colab": {
          "base_uri": "https://localhost:8080/"
        },
        "id": "0RFhkZTHF9qX",
        "outputId": "c8e5cc57-566a-43b6-ce20-d092ba671944"
      },
      "source": [
        "X.loc[30, 'hp'] = 305.25    # (14, 'hp')데이터에 최대 경계값 305.25로 대치\n",
        "\n",
        "print(X.loc[30, 'hp'])"
      ],
      "execution_count": 48,
      "outputs": [
        {
          "output_type": "stream",
          "name": "stdout",
          "text": [
            "305.25\n"
          ]
        }
      ]
    },
    {
      "cell_type": "code",
      "metadata": {
        "colab": {
          "base_uri": "https://localhost:8080/"
        },
        "id": "LPnF0Px8GTiY",
        "outputId": "10451ca8-7a33-4086-9454-85d3be1e8459"
      },
      "source": [
        "print(X_describe.loc['25%'] - 1.5*X_iqr)    # 최소 경계값"
      ],
      "execution_count": 49,
      "outputs": [
        {
          "output_type": "stream",
          "name": "stdout",
          "text": [
            "cyl      -2.000000\n",
            "disp   -186.937500\n",
            "hp      -28.750000\n",
            "drat      1.820000\n",
            "wt        1.038125\n",
            "qsec     14.045000\n",
            "vs       -1.500000\n",
            "carb     -1.000000\n",
            "dtype: float64\n"
          ]
        }
      ]
    },
    {
      "cell_type": "code",
      "metadata": {
        "colab": {
          "base_uri": "https://localhost:8080/"
        },
        "id": "UEA_-lN3GmXS",
        "outputId": "92d5e3c3-0843-4097-b00b-73e5173c98d1"
      },
      "source": [
        "print(X_describe.loc['min'])    # 최솟값 확인 --> 'qsec'에 이상치 존재함."
      ],
      "execution_count": 50,
      "outputs": [
        {
          "output_type": "stream",
          "name": "stdout",
          "text": [
            "cyl      4.000\n",
            "disp    71.100\n",
            "hp      52.000\n",
            "drat     2.760\n",
            "wt       1.513\n",
            "qsec     0.100\n",
            "vs       0.000\n",
            "carb     1.000\n",
            "Name: min, dtype: float64\n"
          ]
        }
      ]
    },
    {
      "cell_type": "markdown",
      "metadata": {
        "id": "rr-oqfieHNzf"
      },
      "source": [
        ""
      ]
    },
    {
      "cell_type": "markdown",
      "metadata": {
        "id": "4Seac10SHOAl"
      },
      "source": [
        "##### 방법2. 평균과 표준편차 활용\n",
        "\n",
        "- 최소 경계값 = 평균 - 1.5*표준편차\n",
        "- 최대 경계값 = 평균 - 1.5*표준편차"
      ]
    },
    {
      "cell_type": "code",
      "metadata": {
        "id": "Qx9Od2ecHULH"
      },
      "source": [
        "# 이상치의 인덱스를 반환하는 함수\n",
        "def outlier(data, column):\n",
        "  mean = data[column].mean()\n",
        "  std = data[column].std()\n",
        "  lowest = mean - 1.5*std\n",
        "  highest = mean + 1.5*std\n",
        "  print('최소경계값: ', lowest, '최대경계값: ', highest)\n",
        "  \n",
        "  outlier_index = data[column][(data[column]<lowest)|(data[column]>highest)].index\n",
        "  return outlier_index"
      ],
      "execution_count": 54,
      "outputs": []
    },
    {
      "cell_type": "code",
      "metadata": {
        "colab": {
          "base_uri": "https://localhost:8080/"
        },
        "id": "SM5jTgIpImt9",
        "outputId": "187870aa-cc77-402f-f62a-1d3417fcf430"
      },
      "source": [
        "print(outlier(X, 'qsec'))"
      ],
      "execution_count": 55,
      "outputs": [
        {
          "output_type": "stream",
          "name": "stdout",
          "text": [
            "최소경계값:  -2.8043094560577657 최대경계값:  42.39618445605777\n",
            "Int64Index([24], dtype='int64')\n"
          ]
        }
      ]
    },
    {
      "cell_type": "code",
      "metadata": {
        "colab": {
          "base_uri": "https://localhost:8080/"
        },
        "id": "L0L7Ub0vI2e5",
        "outputId": "d9272bd0-fbaa-4cce-8608-6c60f517267a"
      },
      "source": [
        "print(X.loc[24, 'qsec'])    # 이상치 확인"
      ],
      "execution_count": 58,
      "outputs": [
        {
          "output_type": "stream",
          "name": "stdout",
          "text": [
            "100.0\n"
          ]
        }
      ]
    },
    {
      "cell_type": "code",
      "metadata": {
        "colab": {
          "base_uri": "https://localhost:8080/"
        },
        "id": "07GuXyr5JHuT",
        "outputId": "2a15c8d7-e9c1-4b42-936a-aa6c69fd8490"
      },
      "source": [
        "X.loc[24, 'qsec'] = 42.396    # 이상치를 최대경계값으로 대치\n",
        "\n",
        "print(X.loc[24, 'qsec'])"
      ],
      "execution_count": 60,
      "outputs": [
        {
          "output_type": "stream",
          "name": "stdout",
          "text": [
            "42.396\n"
          ]
        }
      ]
    },
    {
      "cell_type": "code",
      "metadata": {
        "colab": {
          "base_uri": "https://localhost:8080/"
        },
        "id": "3bXhbSuYJmtF",
        "outputId": "675844b3-8df9-4718-c8a7-20c942149bc2"
      },
      "source": [
        "print(outlier(X, 'carb'))"
      ],
      "execution_count": 61,
      "outputs": [
        {
          "output_type": "stream",
          "name": "stdout",
          "text": [
            "최소경계값:  0.3897000335522218 최대경계값:  5.235299966447778\n",
            "Int64Index([29, 30], dtype='int64')\n"
          ]
        }
      ]
    },
    {
      "cell_type": "code",
      "metadata": {
        "colab": {
          "base_uri": "https://localhost:8080/"
        },
        "id": "fFuHkzQ3Jqo1",
        "outputId": "afb14c0a-e7ab-440f-e172-9435b2e4eb76"
      },
      "source": [
        "print(X.loc[29, 'carb'])\n",
        "print(X.loc[30, 'carb'])"
      ],
      "execution_count": 62,
      "outputs": [
        {
          "output_type": "stream",
          "name": "stdout",
          "text": [
            "6\n",
            "8\n"
          ]
        }
      ]
    },
    {
      "cell_type": "code",
      "metadata": {
        "colab": {
          "base_uri": "https://localhost:8080/"
        },
        "id": "Kx1gfQKFJxgR",
        "outputId": "b7a6bd19-f86e-45f6-ba31-a48b17b55771"
      },
      "source": [
        "outlier_carb = outlier(X, 'carb')\n",
        "\n",
        "X.loc[outlier_carb, 'carb'] = 5.235    # 한 번에 변경"
      ],
      "execution_count": 70,
      "outputs": [
        {
          "output_type": "stream",
          "name": "stdout",
          "text": [
            "최소경계값:  0.3897000335522218 최대경계값:  5.235299966447778\n"
          ]
        }
      ]
    },
    {
      "cell_type": "code",
      "metadata": {
        "colab": {
          "base_uri": "https://localhost:8080/"
        },
        "id": "WMiNpTcDKqwK",
        "outputId": "712fa7e8-639c-478e-f07b-78f26683cb8f"
      },
      "source": [
        "print(X.loc[29, 'carb'])\n",
        "print(X.loc[30, 'carb'])"
      ],
      "execution_count": 71,
      "outputs": [
        {
          "output_type": "stream",
          "name": "stdout",
          "text": [
            "5.235\n",
            "5.235\n"
          ]
        }
      ]
    },
    {
      "cell_type": "markdown",
      "metadata": {
        "id": "Lvp6tRW1L31a"
      },
      "source": [
        "#### 5. 데이터를 동일한 범위로 맞추기(데이터 스케일링)\n",
        "\n",
        "- 데이터 스케일링이 필요한 이유: 머신러닝 결과가 왜곡되지 않고, 특정한 독립변수를 무시하지 않게 하기 위함.\n",
        "- 데이터의 특성에 따라 모든 독립변수를 같은 범위로 스케일링하지 않는 경우가 좋은 성능을 갖는 결과를 도출할 수도 있다.\n",
        "\n",
        "<br>\n",
        "\n",
        "주로 사용하는 데이터 스케일링 유형\n",
        "- 표준 크기변환(Standard Scaling): 평균이 0, 표준편차가 1이 되도록 변환.\n",
        "- 최소-최대 크기변환(Min-Max Scaling): 최솟값이 0, 최댓값이 1이 되도록 변환.\n",
        "- 로버스트 크기변환(Robust Scaling): 중앙값이 0, IQR이 1이 되도록 변환.\n",
        "\n",
        "<br>\n",
        "=> sklearn 라이브러리 사용"
      ]
    },
    {
      "cell_type": "markdown",
      "metadata": {
        "id": "DfI8IbiVNGy4"
      },
      "source": [
        "##### 방법1. 표준 크기변환(Standard Scaler)"
      ]
    },
    {
      "cell_type": "code",
      "metadata": {
        "id": "XMhZL5LRMjjz"
      },
      "source": [
        "from sklearn.preprocessing import StandardScaler\n",
        "\n",
        "temp = X[['qsec']]    # 특정 열만 추출"
      ],
      "execution_count": 72,
      "outputs": []
    },
    {
      "cell_type": "code",
      "metadata": {
        "colab": {
          "base_uri": "https://localhost:8080/"
        },
        "id": "RwwJopW4NYRI",
        "outputId": "66efa95d-4078-4e40-cd34-771653f8bf59"
      },
      "source": [
        "scaler = StandardScaler()    # scaler객체 생성\n",
        "\n",
        "print(scaler.fit_transform(temp))    # fit_transform함수로 크기변환"
      ],
      "execution_count": 73,
      "outputs": [
        {
          "output_type": "stream",
          "name": "stdout",
          "text": [
            "[[-2.73145534e-01]\n",
            " [-1.73549067e-01]\n",
            " [ 1.09233759e-01]\n",
            " [-3.18278518e+00]\n",
            " [-1.73549067e-01]\n",
            " [ 3.95573602e-01]\n",
            " [-3.83413051e-01]\n",
            " [ 3.56446419e-01]\n",
            " [ 8.72213838e-01]\n",
            " [ 5.41000006e-02]\n",
            " [-7.03955833e-02]\n",
            " [-1.05965750e-01]\n",
            " [-7.03955833e-02]\n",
            " [ 7.44750368e-04]\n",
            " [-2.81226632e-03]\n",
            " [-3.12683998e-02]\n",
            " [-1.02408733e-01]\n",
            " [ 2.62185477e-01]\n",
            " [ 9.32271841e-02]\n",
            " [ 3.38661335e-01]\n",
            " [ 3.58224927e-01]\n",
            " [-2.00226692e-01]\n",
            " [-1.23750834e-01]\n",
            " [-4.59888910e-01]\n",
            " [ 4.33959370e+00]\n",
            " [ 1.60810501e-01]\n",
            " [-2.30461334e-01]\n",
            " [-1.94891167e-01]\n",
            " [-6.21733169e-01]\n",
            " [-4.43882335e-01]\n",
            " [-6.03948086e-01]\n",
            " [ 1.07455251e-01]]\n"
          ]
        }
      ]
    }
  ]
}