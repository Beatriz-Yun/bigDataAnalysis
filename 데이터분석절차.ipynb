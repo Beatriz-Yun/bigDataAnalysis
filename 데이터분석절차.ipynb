{
  "nbformat": 4,
  "nbformat_minor": 0,
  "metadata": {
    "colab": {
      "name": "데이터분석절차.ipynb",
      "provenance": [],
      "mount_file_id": "1b__Ej7atXsBUdU_h78K08A4gfpD9S-6F",
      "authorship_tag": "ABX9TyOAFlGJ8SpgT4zUE17asB1P",
      "include_colab_link": true
    },
    "kernelspec": {
      "name": "python3",
      "display_name": "Python 3"
    },
    "language_info": {
      "name": "python"
    }
  },
  "cells": [
    {
      "cell_type": "markdown",
      "metadata": {
        "id": "view-in-github",
        "colab_type": "text"
      },
      "source": [
        "<a href=\"https://colab.research.google.com/github/Beatriz-Yun/bigDataAnalysis/blob/main/%EB%8D%B0%EC%9D%B4%ED%84%B0%EB%B6%84%EC%84%9D%EC%A0%88%EC%B0%A8.ipynb\" target=\"_parent\"><img src=\"https://colab.research.google.com/assets/colab-badge.svg\" alt=\"Open In Colab\"/></a>"
      ]
    },
    {
      "cell_type": "code",
      "metadata": {
        "colab": {
          "base_uri": "https://localhost:8080/"
        },
        "id": "lUlQx1hDlE5w",
        "outputId": "cdb9c3e9-b1fb-4858-e7e9-28535f17d222"
      },
      "source": [
        "!git clone https://github.com/7ieon/bigData.git"
      ],
      "execution_count": 1,
      "outputs": [
        {
          "output_type": "stream",
          "name": "stdout",
          "text": [
            "Cloning into 'bigData'...\n",
            "remote: Enumerating objects: 13, done.\u001b[K\n",
            "remote: Counting objects: 100% (13/13), done.\u001b[K\n",
            "remote: Compressing objects: 100% (13/13), done.\u001b[K\n",
            "remote: Total 13 (delta 0), reused 0 (delta 0), pack-reused 0\u001b[K\n",
            "Unpacking objects: 100% (13/13), done.\n"
          ]
        }
      ]
    },
    {
      "cell_type": "markdown",
      "metadata": {
        "id": "5A-TCoA7mFew"
      },
      "source": [
        "## 데이터 분석 절차\n",
        "\n",
        "1. 데이터 준비하기\n",
        "2. 데이터 관찰하고 가공하기\n",
        "3. 데이터 분리하기\n",
        "4. 학습시키고 평가하기\n",
        "5. 결과 출력하고 저장하기"
      ]
    },
    {
      "cell_type": "markdown",
      "metadata": {
        "id": "JqAH8LFImzO2"
      },
      "source": [
        "### 데이터 준비하기 (Load)"
      ]
    },
    {
      "cell_type": "code",
      "metadata": {
        "id": "KkIYHZs8lNuq"
      },
      "source": [
        "import pandas as pd\n",
        "\n",
        "data = pd.read_csv('/content/bigData/mtcars.csv')"
      ],
      "execution_count": 2,
      "outputs": []
    },
    {
      "cell_type": "code",
      "metadata": {
        "colab": {
          "base_uri": "https://localhost:8080/"
        },
        "id": "81iFMptrm9Z9",
        "outputId": "c9cb29f1-851d-4278-a8d5-552a453900aa"
      },
      "source": [
        "print(data.head())"
      ],
      "execution_count": 3,
      "outputs": [
        {
          "output_type": "stream",
          "name": "stdout",
          "text": [
            "          Unnamed: 0   mpg  cyl   disp   hp  ...   qsec  vs      am  gear carb\n",
            "0          Mazda RX4  21.0  6.0  160.0  110  ...  16.46   0  manual     4    4\n",
            "1      Mazda RX4 Wag  21.0  6.0  160.0  110  ...  17.02   0  manual     4    4\n",
            "2         Datsun 710  22.8  4.0  108.0   93  ...  18.61   1  manual     4    1\n",
            "3     Hornet 4 Drive  21.4  6.0  258.0  110  ...   0.10   1    auto     3    1\n",
            "4  Hornet Sportabout  18.7  8.0  360.0  175  ...  17.02   0    auto     3    2\n",
            "\n",
            "[5 rows x 12 columns]\n"
          ]
        }
      ]
    },
    {
      "cell_type": "code",
      "metadata": {
        "colab": {
          "base_uri": "https://localhost:8080/"
        },
        "id": "VEmNWTwTnMI1",
        "outputId": "f8492ac4-8dd6-4c3f-dba8-75ec95e65d49"
      },
      "source": [
        "print(data.shape)"
      ],
      "execution_count": 4,
      "outputs": [
        {
          "output_type": "stream",
          "name": "stdout",
          "text": [
            "(32, 12)\n"
          ]
        }
      ]
    },
    {
      "cell_type": "code",
      "metadata": {
        "colab": {
          "base_uri": "https://localhost:8080/"
        },
        "id": "GryYpcOTnQht",
        "outputId": "be06f67f-084b-4eed-ba74-bf30bcb4fd13"
      },
      "source": [
        "print(type(data))"
      ],
      "execution_count": 5,
      "outputs": [
        {
          "output_type": "stream",
          "name": "stdout",
          "text": [
            "<class 'pandas.core.frame.DataFrame'>\n"
          ]
        }
      ]
    },
    {
      "cell_type": "code",
      "metadata": {
        "colab": {
          "base_uri": "https://localhost:8080/"
        },
        "id": "eb8rgGU5nWeV",
        "outputId": "3e2cded5-8e9b-4e91-fbb9-34447eee8361"
      },
      "source": [
        "print(data.columns)"
      ],
      "execution_count": 6,
      "outputs": [
        {
          "output_type": "stream",
          "name": "stdout",
          "text": [
            "Index(['Unnamed: 0', 'mpg', 'cyl', 'disp', 'hp', 'drat', 'wt', 'qsec', 'vs',\n",
            "       'am', 'gear', 'carb'],\n",
            "      dtype='object')\n"
          ]
        }
      ]
    },
    {
      "cell_type": "code",
      "metadata": {
        "colab": {
          "base_uri": "https://localhost:8080/"
        },
        "id": "KSVOuSpOncgl",
        "outputId": "187e4123-c769-475b-cec1-01f1062f47a5"
      },
      "source": [
        "print(data.describe())    # 기초통계량(데이터개수, 평균, 표준편차, 최솟값, 사분위수, 최댓값)"
      ],
      "execution_count": 7,
      "outputs": [
        {
          "output_type": "stream",
          "name": "stdout",
          "text": [
            "             mpg        cyl        disp  ...        qsec         vs     carb\n",
            "count  32.000000  30.000000   32.000000  ...   31.000000  32.000000  32.0000\n",
            "mean   20.090625   7.600000  230.721875  ...   19.866774   0.437500   2.8125\n",
            "std     6.026948   8.194195  123.938694  ...   15.310469   0.504016   1.6152\n",
            "min    10.400000   4.000000   71.100000  ...    0.100000   0.000000   1.0000\n",
            "25%    15.425000   4.000000  120.825000  ...   16.785000   0.000000   2.0000\n",
            "50%    19.200000   6.000000  196.300000  ...   17.600000   0.000000   2.0000\n",
            "75%    22.800000   8.000000  326.000000  ...   18.755000   1.000000   4.0000\n",
            "max    33.900000  50.000000  472.000000  ...  100.000000   1.000000   8.0000\n",
            "\n",
            "[8 rows x 9 columns]\n"
          ]
        }
      ]
    },
    {
      "cell_type": "code",
      "metadata": {
        "colab": {
          "base_uri": "https://localhost:8080/"
        },
        "id": "FJJqumVEnuwt",
        "outputId": "d516b99a-5b59-406d-e335-63a92df76daf"
      },
      "source": [
        "print(data['hp'].describe())    # 특정 열에 대한 기초통계량"
      ],
      "execution_count": 8,
      "outputs": [
        {
          "output_type": "stream",
          "name": "stdout",
          "text": [
            "count     32.000000\n",
            "mean     146.687500\n",
            "std       68.562868\n",
            "min       52.000000\n",
            "25%       96.500000\n",
            "50%      123.000000\n",
            "75%      180.000000\n",
            "max      335.000000\n",
            "Name: hp, dtype: float64\n"
          ]
        }
      ]
    }
  ]
}