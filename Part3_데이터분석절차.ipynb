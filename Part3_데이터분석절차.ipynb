{
  "nbformat": 4,
  "nbformat_minor": 0,
  "metadata": {
    "colab": {
      "name": "Part3 데이터분석절차.ipynb",
      "provenance": [],
      "mount_file_id": "1b__Ej7atXsBUdU_h78K08A4gfpD9S-6F",
      "authorship_tag": "ABX9TyPwt8Q2qYCwOb6HqA0L3avY",
      "include_colab_link": true
    },
    "kernelspec": {
      "name": "python3",
      "display_name": "Python 3"
    },
    "language_info": {
      "name": "python"
    }
  },
  "cells": [
    {
      "cell_type": "markdown",
      "metadata": {
        "id": "view-in-github",
        "colab_type": "text"
      },
      "source": [
        "<a href=\"https://colab.research.google.com/github/Beatriz-Yun/bigDataAnalysis/blob/main/Part3_%EB%8D%B0%EC%9D%B4%ED%84%B0%EB%B6%84%EC%84%9D%EC%A0%88%EC%B0%A8.ipynb\" target=\"_parent\"><img src=\"https://colab.research.google.com/assets/colab-badge.svg\" alt=\"Open In Colab\"/></a>"
      ]
    },
    {
      "cell_type": "code",
      "metadata": {
        "colab": {
          "base_uri": "https://localhost:8080/"
        },
        "id": "lUlQx1hDlE5w",
        "outputId": "14e6ae38-3814-4c75-b33c-29198b2e2bd7"
      },
      "source": [
        "!git clone https://github.com/7ieon/bigData.git"
      ],
      "execution_count": 1,
      "outputs": [
        {
          "output_type": "stream",
          "name": "stdout",
          "text": [
            "Cloning into 'bigData'...\n",
            "remote: Enumerating objects: 13, done.\u001b[K\n",
            "remote: Counting objects: 100% (13/13), done.\u001b[K\n",
            "remote: Compressing objects: 100% (13/13), done.\u001b[K\n",
            "remote: Total 13 (delta 0), reused 0 (delta 0), pack-reused 0\u001b[K\n",
            "Unpacking objects: 100% (13/13), done.\n"
          ]
        }
      ]
    },
    {
      "cell_type": "markdown",
      "metadata": {
        "id": "5A-TCoA7mFew"
      },
      "source": [
        "## 데이터 분석 절차\n",
        "\n",
        "1. 데이터 준비하기\n",
        "2. 데이터 관찰하고 가공하기\n",
        "3. 데이터 분리하기\n",
        "4. 학습시키고 평가하기\n",
        "5. 결과 출력하고 저장하기"
      ]
    },
    {
      "cell_type": "markdown",
      "metadata": {
        "id": "JqAH8LFImzO2"
      },
      "source": [
        "### 데이터 준비하기 (Load)"
      ]
    },
    {
      "cell_type": "code",
      "metadata": {
        "id": "KkIYHZs8lNuq"
      },
      "source": [
        "import pandas as pd\n",
        "\n",
        "data = pd.read_csv('/content/bigData/mtcars.csv')"
      ],
      "execution_count": 2,
      "outputs": []
    },
    {
      "cell_type": "code",
      "metadata": {
        "colab": {
          "base_uri": "https://localhost:8080/"
        },
        "id": "81iFMptrm9Z9",
        "outputId": "e3c38535-58b4-43e4-95e0-e8caec833197"
      },
      "source": [
        "print(data.head())"
      ],
      "execution_count": 3,
      "outputs": [
        {
          "output_type": "stream",
          "name": "stdout",
          "text": [
            "          Unnamed: 0   mpg  cyl   disp   hp  ...   qsec  vs      am  gear carb\n",
            "0          Mazda RX4  21.0  6.0  160.0  110  ...  16.46   0  manual     4    4\n",
            "1      Mazda RX4 Wag  21.0  6.0  160.0  110  ...  17.02   0  manual     4    4\n",
            "2         Datsun 710  22.8  4.0  108.0   93  ...  18.61   1  manual     4    1\n",
            "3     Hornet 4 Drive  21.4  6.0  258.0  110  ...   0.10   1    auto     3    1\n",
            "4  Hornet Sportabout  18.7  8.0  360.0  175  ...  17.02   0    auto     3    2\n",
            "\n",
            "[5 rows x 12 columns]\n"
          ]
        }
      ]
    },
    {
      "cell_type": "code",
      "metadata": {
        "colab": {
          "base_uri": "https://localhost:8080/"
        },
        "id": "VEmNWTwTnMI1",
        "outputId": "a0d7e0e9-85d0-481d-aa45-faddb9e47eb1"
      },
      "source": [
        "print(data.shape)"
      ],
      "execution_count": 4,
      "outputs": [
        {
          "output_type": "stream",
          "name": "stdout",
          "text": [
            "(32, 12)\n"
          ]
        }
      ]
    },
    {
      "cell_type": "code",
      "metadata": {
        "colab": {
          "base_uri": "https://localhost:8080/"
        },
        "id": "GryYpcOTnQht",
        "outputId": "cf34bde9-c924-4cae-d83e-bbcc74031b4b"
      },
      "source": [
        "print(type(data))"
      ],
      "execution_count": 5,
      "outputs": [
        {
          "output_type": "stream",
          "name": "stdout",
          "text": [
            "<class 'pandas.core.frame.DataFrame'>\n"
          ]
        }
      ]
    },
    {
      "cell_type": "code",
      "metadata": {
        "colab": {
          "base_uri": "https://localhost:8080/"
        },
        "id": "eb8rgGU5nWeV",
        "outputId": "6adfa041-e64e-4d9d-c131-ea4c822892e6"
      },
      "source": [
        "print(data.columns)"
      ],
      "execution_count": 6,
      "outputs": [
        {
          "output_type": "stream",
          "name": "stdout",
          "text": [
            "Index(['Unnamed: 0', 'mpg', 'cyl', 'disp', 'hp', 'drat', 'wt', 'qsec', 'vs',\n",
            "       'am', 'gear', 'carb'],\n",
            "      dtype='object')\n"
          ]
        }
      ]
    },
    {
      "cell_type": "code",
      "metadata": {
        "colab": {
          "base_uri": "https://localhost:8080/"
        },
        "id": "KSVOuSpOncgl",
        "outputId": "0b8478c9-c061-4ac7-b625-fb2fea77e7a2"
      },
      "source": [
        "print(data.describe())    # 기초통계량(데이터개수, 평균, 표준편차, 최솟값, 사분위수, 최댓값)"
      ],
      "execution_count": 7,
      "outputs": [
        {
          "output_type": "stream",
          "name": "stdout",
          "text": [
            "             mpg        cyl        disp  ...        qsec         vs     carb\n",
            "count  32.000000  30.000000   32.000000  ...   31.000000  32.000000  32.0000\n",
            "mean   20.090625   7.600000  230.721875  ...   19.866774   0.437500   2.8125\n",
            "std     6.026948   8.194195  123.938694  ...   15.310469   0.504016   1.6152\n",
            "min    10.400000   4.000000   71.100000  ...    0.100000   0.000000   1.0000\n",
            "25%    15.425000   4.000000  120.825000  ...   16.785000   0.000000   2.0000\n",
            "50%    19.200000   6.000000  196.300000  ...   17.600000   0.000000   2.0000\n",
            "75%    22.800000   8.000000  326.000000  ...   18.755000   1.000000   4.0000\n",
            "max    33.900000  50.000000  472.000000  ...  100.000000   1.000000   8.0000\n",
            "\n",
            "[8 rows x 9 columns]\n"
          ]
        }
      ]
    },
    {
      "cell_type": "code",
      "metadata": {
        "colab": {
          "base_uri": "https://localhost:8080/"
        },
        "id": "FJJqumVEnuwt",
        "outputId": "90d55806-d7be-4c24-912f-49511a5aa891"
      },
      "source": [
        "print(data['hp'].describe())    # 특정 열에 대한 기초통계량"
      ],
      "execution_count": 8,
      "outputs": [
        {
          "output_type": "stream",
          "name": "stdout",
          "text": [
            "count     32.000000\n",
            "mean     146.687500\n",
            "std       68.562868\n",
            "min       52.000000\n",
            "25%       96.500000\n",
            "50%      123.000000\n",
            "75%      180.000000\n",
            "max      335.000000\n",
            "Name: hp, dtype: float64\n"
          ]
        }
      ]
    },
    {
      "cell_type": "code",
      "metadata": {
        "colab": {
          "base_uri": "https://localhost:8080/"
        },
        "id": "a9E2mcKeo0sw",
        "outputId": "e3ed2e13-88c8-4631-db0e-03be1e7d7cb5"
      },
      "source": [
        "print(data['am'].unique())"
      ],
      "execution_count": 9,
      "outputs": [
        {
          "output_type": "stream",
          "name": "stdout",
          "text": [
            "['manual' 'auto']\n"
          ]
        }
      ]
    },
    {
      "cell_type": "code",
      "metadata": {
        "colab": {
          "base_uri": "https://localhost:8080/"
        },
        "id": "sP6pF6dqo4n1",
        "outputId": "8461d9d9-a9d8-4a66-b9e5-433f846bfd3a"
      },
      "source": [
        "print(data['gear'].unique())"
      ],
      "execution_count": 10,
      "outputs": [
        {
          "output_type": "stream",
          "name": "stdout",
          "text": [
            "['4' '3' '*3' '5' '*5']\n"
          ]
        }
      ]
    },
    {
      "cell_type": "code",
      "metadata": {
        "colab": {
          "base_uri": "https://localhost:8080/"
        },
        "id": "MM7ooBK6o8D0",
        "outputId": "5d36e6af-8278-4afd-a1e8-5d97b83f834f"
      },
      "source": [
        "print(data['vs'].unique())"
      ],
      "execution_count": 11,
      "outputs": [
        {
          "output_type": "stream",
          "name": "stdout",
          "text": [
            "[0 1]\n"
          ]
        }
      ]
    },
    {
      "cell_type": "code",
      "metadata": {
        "colab": {
          "base_uri": "https://localhost:8080/"
        },
        "id": "x0R-5w0vpZrm",
        "outputId": "7e6aa61b-b4b3-4cb2-cb58-24c950bbf7fe"
      },
      "source": [
        "print(data.info())    # 요약정보 (전체데이터크기, Null값의 개수) --> 범주형/수치형 변수 예상 가능"
      ],
      "execution_count": 12,
      "outputs": [
        {
          "output_type": "stream",
          "name": "stdout",
          "text": [
            "<class 'pandas.core.frame.DataFrame'>\n",
            "RangeIndex: 32 entries, 0 to 31\n",
            "Data columns (total 12 columns):\n",
            " #   Column      Non-Null Count  Dtype  \n",
            "---  ------      --------------  -----  \n",
            " 0   Unnamed: 0  32 non-null     object \n",
            " 1   mpg         32 non-null     float64\n",
            " 2   cyl         30 non-null     float64\n",
            " 3   disp        32 non-null     float64\n",
            " 4   hp          32 non-null     int64  \n",
            " 5   drat        32 non-null     float64\n",
            " 6   wt          32 non-null     float64\n",
            " 7   qsec        31 non-null     float64\n",
            " 8   vs          32 non-null     int64  \n",
            " 9   am          32 non-null     object \n",
            " 10  gear        32 non-null     object \n",
            " 11  carb        32 non-null     int64  \n",
            "dtypes: float64(6), int64(3), object(3)\n",
            "memory usage: 3.1+ KB\n",
            "None\n"
          ]
        }
      ]
    },
    {
      "cell_type": "code",
      "metadata": {
        "colab": {
          "base_uri": "https://localhost:8080/"
        },
        "id": "aak4MJ5Np1p6",
        "outputId": "3658da57-ca3e-49bc-ac63-69040c175e39"
      },
      "source": [
        "print(data.corr())    # 상관관계 --> 분석대상에 포함할 변수를 판단, 데이터의 특징을 이해하는 과정에 이용"
      ],
      "execution_count": 13,
      "outputs": [
        {
          "output_type": "stream",
          "name": "stdout",
          "text": [
            "           mpg       cyl      disp  ...      qsec        vs      carb\n",
            "mpg   1.000000 -0.460227 -0.847551  ...  0.013668  0.664039 -0.550925\n",
            "cyl  -0.460227  1.000000  0.544876  ... -0.012755 -0.323960  0.239980\n",
            "disp -0.847551  0.544876  1.000000  ...  0.181810 -0.710416  0.394977\n",
            "hp   -0.776168  0.323293  0.790949  ...  0.010807 -0.723097  0.749812\n",
            "drat  0.681172 -0.372671 -0.710214  ... -0.120283  0.440278 -0.090790\n",
            "wt   -0.867659  0.533690  0.887980  ...  0.093900 -0.554916  0.427606\n",
            "qsec  0.013668 -0.012755  0.181810  ...  1.000000 -0.112146 -0.120312\n",
            "vs    0.664039 -0.323960 -0.710416  ... -0.112146  1.000000 -0.569607\n",
            "carb -0.550925  0.239980  0.394977  ... -0.120312 -0.569607  1.000000\n",
            "\n",
            "[9 rows x 9 columns]\n"
          ]
        }
      ]
    },
    {
      "cell_type": "markdown",
      "metadata": {
        "id": "eXjtBVRBrKB-"
      },
      "source": [
        "#### 종속변수와 독립변수 분리하기\n",
        "\n",
        "실제 시험에서는 종속변수와 독립변수를 명확히 정해주므로, 종속변수 결정에 대한 고민은 하지 않아도 됨.\n",
        "\n",
        "<br>\n",
        "\n",
        "예제 데이터에서 연속형 변수인 mpg열을 종속변수, 그 외의 열들을 독립변수로 구성한다."
      ]
    },
    {
      "cell_type": "code",
      "metadata": {
        "id": "N4wJqSumrMXH"
      },
      "source": [
        "X = data.drop(columns='mpg')\n",
        "Y = data['mpg']"
      ],
      "execution_count": 14,
      "outputs": []
    },
    {
      "cell_type": "code",
      "metadata": {
        "colab": {
          "base_uri": "https://localhost:8080/"
        },
        "id": "4ZbfkW0-r23s",
        "outputId": "f570f935-1873-40aa-ba7f-d7e2ed9b6b11"
      },
      "source": [
        "print(X.head())"
      ],
      "execution_count": 15,
      "outputs": [
        {
          "output_type": "stream",
          "name": "stdout",
          "text": [
            "          Unnamed: 0  cyl   disp   hp  drat  ...   qsec  vs      am gear carb\n",
            "0          Mazda RX4  6.0  160.0  110  3.90  ...  16.46   0  manual    4    4\n",
            "1      Mazda RX4 Wag  6.0  160.0  110  3.90  ...  17.02   0  manual    4    4\n",
            "2         Datsun 710  4.0  108.0   93  3.85  ...  18.61   1  manual    4    1\n",
            "3     Hornet 4 Drive  6.0  258.0  110  3.08  ...   0.10   1    auto    3    1\n",
            "4  Hornet Sportabout  8.0  360.0  175  3.15  ...  17.02   0    auto    3    2\n",
            "\n",
            "[5 rows x 11 columns]\n"
          ]
        }
      ]
    },
    {
      "cell_type": "code",
      "metadata": {
        "colab": {
          "base_uri": "https://localhost:8080/"
        },
        "id": "B3R-g2oyr4sy",
        "outputId": "161295da-7732-427e-879d-7c10a1da2f4b"
      },
      "source": [
        "print(X.columns)"
      ],
      "execution_count": 16,
      "outputs": [
        {
          "output_type": "stream",
          "name": "stdout",
          "text": [
            "Index(['Unnamed: 0', 'cyl', 'disp', 'hp', 'drat', 'wt', 'qsec', 'vs', 'am',\n",
            "       'gear', 'carb'],\n",
            "      dtype='object')\n"
          ]
        }
      ]
    },
    {
      "cell_type": "code",
      "metadata": {
        "colab": {
          "base_uri": "https://localhost:8080/"
        },
        "id": "OnPevslJtHqH",
        "outputId": "df72fd12-aa0f-4758-a2c0-0ab52df21293"
      },
      "source": [
        "print(Y.head())"
      ],
      "execution_count": 17,
      "outputs": [
        {
          "output_type": "stream",
          "name": "stdout",
          "text": [
            "0    21.0\n",
            "1    21.0\n",
            "2    22.8\n",
            "3    21.4\n",
            "4    18.7\n",
            "Name: mpg, dtype: float64\n"
          ]
        }
      ]
    },
    {
      "cell_type": "markdown",
      "metadata": {
        "id": "_k4NX-TQtN2P"
      },
      "source": [
        "### 데이터를 관찰하고 가공하기 (전처리)\n",
        "\n",
        "독립변수 X를 자세히 뜯어보고 관찰 후, 주어진 데이터를 보다 잘 표현할 수 있는 형태로 변형할 것이다. <br>\n",
        "=> 피쳐 엔지니어링(feature engineering)\n",
        "\n",
        "<br>\n",
        "\n",
        "수많은 전처리 작업 중 주로 사용하는 몇가지들\n",
        "- 필요하지 않은 열 삭제\n",
        "- 누락된 값 채우거나 삭제\n",
        "- 잘못된 값 수정\n",
        "- 이상치 조정\n",
        "- 각 열들의 숫자값을 동일한 범위의 숫자로 변경(정규화)\n",
        "- 적절한 데이터타입으로 변환\n",
        "- 문자로 구성된 범주형 데이터를 숫자형으로 변경\n",
        "- 분석에 필요한 새로운 열을 생성\n",
        "\n",
        "<br>\n",
        "\n",
        "> 이밖에도 다른 전처리 방법, 피처 엔지니어링 방법(비닝, 로그 변환 등)이 있으나, 시각화없이 **단순한 전처리** 작업들만으로 합격하기 충분한 수준임."
      ]
    },
    {
      "cell_type": "markdown",
      "metadata": {
        "id": "fEVS4O5YxFLz"
      },
      "source": [
        "#### 1.불필요한 열 삭제하기"
      ]
    },
    {
      "cell_type": "code",
      "metadata": {
        "colab": {
          "base_uri": "https://localhost:8080/"
        },
        "id": "aOotAnfZtI6P",
        "outputId": "ed9ebfcb-bd9e-4c61-da17-746f927828a5"
      },
      "source": [
        "print(X.head())"
      ],
      "execution_count": 18,
      "outputs": [
        {
          "output_type": "stream",
          "name": "stdout",
          "text": [
            "          Unnamed: 0  cyl   disp   hp  drat  ...   qsec  vs      am gear carb\n",
            "0          Mazda RX4  6.0  160.0  110  3.90  ...  16.46   0  manual    4    4\n",
            "1      Mazda RX4 Wag  6.0  160.0  110  3.90  ...  17.02   0  manual    4    4\n",
            "2         Datsun 710  4.0  108.0   93  3.85  ...  18.61   1  manual    4    1\n",
            "3     Hornet 4 Drive  6.0  258.0  110  3.08  ...   0.10   1    auto    3    1\n",
            "4  Hornet Sportabout  8.0  360.0  175  3.15  ...  17.02   0    auto    3    2\n",
            "\n",
            "[5 rows x 11 columns]\n"
          ]
        }
      ]
    },
    {
      "cell_type": "code",
      "metadata": {
        "id": "ocHFxA8du524"
      },
      "source": [
        "X = X.iloc[:, 1:]    # 첫 번째 열 제거"
      ],
      "execution_count": 19,
      "outputs": []
    },
    {
      "cell_type": "code",
      "metadata": {
        "colab": {
          "base_uri": "https://localhost:8080/"
        },
        "id": "iqqb6R1svAL5",
        "outputId": "61d4ffaf-4c96-44fd-b259-e4fab1918208"
      },
      "source": [
        "print(X.head())"
      ],
      "execution_count": 20,
      "outputs": [
        {
          "output_type": "stream",
          "name": "stdout",
          "text": [
            "   cyl   disp   hp  drat     wt   qsec  vs      am gear  carb\n",
            "0  6.0  160.0  110  3.90  2.620  16.46   0  manual    4     4\n",
            "1  6.0  160.0  110  3.90  2.875  17.02   0  manual    4     4\n",
            "2  4.0  108.0   93  3.85  2.320  18.61   1  manual    4     1\n",
            "3  6.0  258.0  110  3.08  3.215   0.10   1    auto    3     1\n",
            "4  8.0  360.0  175  3.15  3.440  17.02   0    auto    3     2\n"
          ]
        }
      ]
    },
    {
      "cell_type": "markdown",
      "metadata": {
        "id": "BY3_iRURxSnm"
      },
      "source": [
        "#### 2.결측값 처리하기"
      ]
    },
    {
      "cell_type": "code",
      "metadata": {
        "colab": {
          "base_uri": "https://localhost:8080/"
        },
        "id": "Raqmvc1wvIg5",
        "outputId": "5834ac5d-b2f5-4f39-81c4-2d3c52ee9683"
      },
      "source": [
        "print(X.isnull().sum())    # 각 열에 있는 결측치 개수 세기"
      ],
      "execution_count": 21,
      "outputs": [
        {
          "output_type": "stream",
          "name": "stdout",
          "text": [
            "cyl     2\n",
            "disp    0\n",
            "hp      0\n",
            "drat    0\n",
            "wt      0\n",
            "qsec    1\n",
            "vs      0\n",
            "am      0\n",
            "gear    0\n",
            "carb    0\n",
            "dtype: int64\n"
          ]
        }
      ]
    },
    {
      "cell_type": "code",
      "metadata": {
        "colab": {
          "base_uri": "https://localhost:8080/"
        },
        "id": "Z9K-097hvawr",
        "outputId": "3b101ee3-220e-44f4-e84a-8112b52a839b"
      },
      "source": [
        "X_cyl_mean = X['cyl'].mean()    # 특정 열 값들의 평균\n",
        "\n",
        "print(X_cyl_mean)"
      ],
      "execution_count": 22,
      "outputs": [
        {
          "output_type": "stream",
          "name": "stdout",
          "text": [
            "7.6\n"
          ]
        }
      ]
    },
    {
      "cell_type": "code",
      "metadata": {
        "id": "eRN2iM8Avu8s"
      },
      "source": [
        "X['cyl'] = X['cyl'].fillna(X_cyl_mean)    # 평균값으로 결측치 채우기"
      ],
      "execution_count": 23,
      "outputs": []
    },
    {
      "cell_type": "code",
      "metadata": {
        "colab": {
          "base_uri": "https://localhost:8080/"
        },
        "id": "89sWG4cjwGl2",
        "outputId": "0f623eee-f20c-443f-f708-d6148f8e1231"
      },
      "source": [
        "print(X.isnull().sum())    # 'cyl'열에 결측치 제거됨."
      ],
      "execution_count": 24,
      "outputs": [
        {
          "output_type": "stream",
          "name": "stdout",
          "text": [
            "cyl     0\n",
            "disp    0\n",
            "hp      0\n",
            "drat    0\n",
            "wt      0\n",
            "qsec    1\n",
            "vs      0\n",
            "am      0\n",
            "gear    0\n",
            "carb    0\n",
            "dtype: int64\n"
          ]
        }
      ]
    },
    {
      "cell_type": "code",
      "metadata": {
        "colab": {
          "base_uri": "https://localhost:8080/"
        },
        "id": "mXzY1bCxwV7c",
        "outputId": "5ea7aa0a-f247-4872-9f9e-5ed3fa35deb2"
      },
      "source": [
        "X_qsec_median = X['qsec'].median()    # 특정 열 값들의 중위값\n",
        "\n",
        "print(X_qsec_median)"
      ],
      "execution_count": 25,
      "outputs": [
        {
          "output_type": "stream",
          "name": "stdout",
          "text": [
            "17.6\n"
          ]
        }
      ]
    },
    {
      "cell_type": "code",
      "metadata": {
        "id": "K0STplQPwinl"
      },
      "source": [
        "X['qsec'] = X['qsec'].fillna(X_qsec_median)    # 중위값으로 결측치 채우기"
      ],
      "execution_count": 26,
      "outputs": []
    },
    {
      "cell_type": "code",
      "metadata": {
        "colab": {
          "base_uri": "https://localhost:8080/"
        },
        "id": "9PkHdJMUwrA6",
        "outputId": "f2a4f74c-6169-4392-dd82-ddd16993e944"
      },
      "source": [
        "print(X.isnull().sum())    # 결측치 모두 제거됨"
      ],
      "execution_count": 27,
      "outputs": [
        {
          "output_type": "stream",
          "name": "stdout",
          "text": [
            "cyl     0\n",
            "disp    0\n",
            "hp      0\n",
            "drat    0\n",
            "wt      0\n",
            "qsec    0\n",
            "vs      0\n",
            "am      0\n",
            "gear    0\n",
            "carb    0\n",
            "dtype: int64\n"
          ]
        }
      ]
    },
    {
      "cell_type": "markdown",
      "metadata": {
        "id": "1gOSpYtNxXhJ"
      },
      "source": [
        "#### 3.잘못된 값을 올바르게 바꾸기"
      ]
    },
    {
      "cell_type": "code",
      "metadata": {
        "colab": {
          "base_uri": "https://localhost:8080/"
        },
        "id": "DYIkzZ-sxBuv",
        "outputId": "1b111971-75e9-4a52-8afd-902f87dc39a0"
      },
      "source": [
        "print(X['gear'].unique())"
      ],
      "execution_count": 28,
      "outputs": [
        {
          "output_type": "stream",
          "name": "stdout",
          "text": [
            "['4' '3' '*3' '5' '*5']\n"
          ]
        }
      ]
    },
    {
      "cell_type": "code",
      "metadata": {
        "colab": {
          "base_uri": "https://localhost:8080/"
        },
        "id": "EMmg99MQ2Vn0",
        "outputId": "35efe040-f89e-4d6b-c4d7-5c11281c7073"
      },
      "source": [
        "print(X['gear'].replace('*3','3').replace('*5','5'))"
      ],
      "execution_count": 29,
      "outputs": [
        {
          "output_type": "stream",
          "name": "stdout",
          "text": [
            "0     4\n",
            "1     4\n",
            "2     4\n",
            "3     3\n",
            "4     3\n",
            "5     3\n",
            "6     3\n",
            "7     4\n",
            "8     4\n",
            "9     4\n",
            "10    4\n",
            "11    3\n",
            "12    3\n",
            "13    3\n",
            "14    3\n",
            "15    3\n",
            "16    3\n",
            "17    4\n",
            "18    4\n",
            "19    4\n",
            "20    3\n",
            "21    3\n",
            "22    3\n",
            "23    3\n",
            "24    3\n",
            "25    4\n",
            "26    5\n",
            "27    5\n",
            "28    5\n",
            "29    5\n",
            "30    5\n",
            "31    4\n",
            "Name: gear, dtype: object\n"
          ]
        }
      ]
    },
    {
      "cell_type": "code",
      "metadata": {
        "id": "a6063mxb2xBQ"
      },
      "source": [
        "X['gear'] = X['gear'].replace('*3','3').replace('*5','5')    # replace한 결과를 원하는 열에 저장"
      ],
      "execution_count": 30,
      "outputs": []
    },
    {
      "cell_type": "code",
      "metadata": {
        "colab": {
          "base_uri": "https://localhost:8080/"
        },
        "id": "P7VPiGyc2xKw",
        "outputId": "dbbd923a-4aaa-43f9-c107-6e3c096cb376"
      },
      "source": [
        "print(X['gear'].unique())"
      ],
      "execution_count": 31,
      "outputs": [
        {
          "output_type": "stream",
          "name": "stdout",
          "text": [
            "['4' '3' '5']\n"
          ]
        }
      ]
    },
    {
      "cell_type": "markdown",
      "metadata": {
        "id": "of1vcT7K3POM"
      },
      "source": [
        "#### 4.이상값 처리하기\n",
        "\n",
        "- 이상값 처리는 데이터 스케일링보다 선행되어야 한다. 데이터 스케일링 이후에 이상값을 처리하면 데이터 분포가 왜곡되거나 데이터 스케일링 수행이 다시 필요할 수 있다.\n",
        "- 이상값 처리 방식 중 다른 값으로 교체하는 것을 추천! 최종 제출해야하는 결과 개수가 달라지기 때문."
      ]
    },
    {
      "cell_type": "markdown",
      "metadata": {
        "id": "BjsE95uWG2qK"
      },
      "source": [
        "##### 방법1. 사분범위(IQR) 활용\n",
        "\n",
        "- 최소경계값 = Q1 - 1.5*IQR\n",
        "- 최대경계값 = Q3 + 1.5*IQR"
      ]
    },
    {
      "cell_type": "code",
      "metadata": {
        "colab": {
          "base_uri": "https://localhost:8080/"
        },
        "id": "_byzctD23Ufw",
        "outputId": "5112e008-a001-425b-ebfc-1e2ae8d05953"
      },
      "source": [
        "X_describe = X.describe()    # 기초통계량 저장\n",
        "\n",
        "print(X_describe)"
      ],
      "execution_count": 32,
      "outputs": [
        {
          "output_type": "stream",
          "name": "stdout",
          "text": [
            "             cyl        disp          hp  ...        qsec         vs     carb\n",
            "count  32.000000   32.000000   32.000000  ...   32.000000  32.000000  32.0000\n",
            "mean    7.600000  230.721875  146.687500  ...   19.795938   0.437500   2.8125\n",
            "std     7.925459  123.938694   68.562868  ...   15.066831   0.504016   1.6152\n",
            "min     4.000000   71.100000   52.000000  ...    0.100000   0.000000   1.0000\n",
            "25%     4.000000  120.825000   96.500000  ...   16.827500   0.000000   2.0000\n",
            "50%     6.000000  196.300000  123.000000  ...   17.600000   0.000000   2.0000\n",
            "75%     8.000000  326.000000  180.000000  ...   18.682500   1.000000   4.0000\n",
            "max    50.000000  472.000000  335.000000  ...  100.000000   1.000000   8.0000\n",
            "\n",
            "[8 rows x 8 columns]\n"
          ]
        }
      ]
    },
    {
      "cell_type": "code",
      "metadata": {
        "colab": {
          "base_uri": "https://localhost:8080/"
        },
        "id": "TP6rNhlyCwoH",
        "outputId": "8d4a6e31-de63-4010-d708-740e9d0124aa"
      },
      "source": [
        "print(X_describe.loc['75%'], X_describe.loc['25%'])    # 3사분위수와 1사분위수"
      ],
      "execution_count": 33,
      "outputs": [
        {
          "output_type": "stream",
          "name": "stdout",
          "text": [
            "cyl       8.0000\n",
            "disp    326.0000\n",
            "hp      180.0000\n",
            "drat      3.9200\n",
            "wt        3.6100\n",
            "qsec     18.6825\n",
            "vs        1.0000\n",
            "carb      4.0000\n",
            "Name: 75%, dtype: float64 cyl       4.00000\n",
            "disp    120.82500\n",
            "hp       96.50000\n",
            "drat      3.08000\n",
            "wt        2.58125\n",
            "qsec     16.82750\n",
            "vs        0.00000\n",
            "carb      2.00000\n",
            "Name: 25%, dtype: float64\n"
          ]
        }
      ]
    },
    {
      "cell_type": "code",
      "metadata": {
        "colab": {
          "base_uri": "https://localhost:8080/"
        },
        "id": "pcNBfoygDG2-",
        "outputId": "19558574-c18e-4fc3-9def-c1e6a06b29b3"
      },
      "source": [
        "X_iqr = X_describe.loc['75%'] - X_describe.loc['25%']\n",
        "\n",
        "print(X_iqr)    # 사분범위(IQR)"
      ],
      "execution_count": 34,
      "outputs": [
        {
          "output_type": "stream",
          "name": "stdout",
          "text": [
            "cyl       4.00000\n",
            "disp    205.17500\n",
            "hp       83.50000\n",
            "drat      0.84000\n",
            "wt        1.02875\n",
            "qsec      1.85500\n",
            "vs        1.00000\n",
            "carb      2.00000\n",
            "dtype: float64\n"
          ]
        }
      ]
    },
    {
      "cell_type": "code",
      "metadata": {
        "colab": {
          "base_uri": "https://localhost:8080/"
        },
        "id": "BnETJ3JqDkva",
        "outputId": "c9526afd-171a-45b5-a09d-63a1b63208b6"
      },
      "source": [
        "print(X_describe.loc['75%'] + 1.5*X_iqr)    # 최댓값 경계"
      ],
      "execution_count": 35,
      "outputs": [
        {
          "output_type": "stream",
          "name": "stdout",
          "text": [
            "cyl      14.000000\n",
            "disp    633.762500\n",
            "hp      305.250000\n",
            "drat      5.180000\n",
            "wt        5.153125\n",
            "qsec     21.465000\n",
            "vs        2.500000\n",
            "carb      7.000000\n",
            "dtype: float64\n"
          ]
        }
      ]
    },
    {
      "cell_type": "code",
      "metadata": {
        "colab": {
          "base_uri": "https://localhost:8080/"
        },
        "id": "jDnaHkG3EG6A",
        "outputId": "d2f89ff8-931c-4f32-beb8-c03633e8641e"
      },
      "source": [
        "print(X_describe.loc['max'])    # 최댓값 확인  --> 'cyl','hp','qsec','carb'열에 이상치 존재함."
      ],
      "execution_count": 36,
      "outputs": [
        {
          "output_type": "stream",
          "name": "stdout",
          "text": [
            "cyl      50.000\n",
            "disp    472.000\n",
            "hp      335.000\n",
            "drat      4.930\n",
            "wt        5.424\n",
            "qsec    100.000\n",
            "vs        1.000\n",
            "carb      8.000\n",
            "Name: max, dtype: float64\n"
          ]
        }
      ]
    },
    {
      "cell_type": "code",
      "metadata": {
        "colab": {
          "base_uri": "https://localhost:8080/"
        },
        "id": "EUzMqW8qEgFl",
        "outputId": "75dba84e-79f8-4b81-f041-7a00dee75284"
      },
      "source": [
        "print(X.loc[X['cyl']>14])    # 'cyl'열의 이상치 출력"
      ],
      "execution_count": 37,
      "outputs": [
        {
          "output_type": "stream",
          "name": "stdout",
          "text": [
            "     cyl   disp   hp  drat    wt   qsec  vs    am gear  carb\n",
            "14  50.0  472.0  205  2.93  5.25  17.98   0  auto    3     4\n"
          ]
        }
      ]
    },
    {
      "cell_type": "code",
      "metadata": {
        "colab": {
          "base_uri": "https://localhost:8080/"
        },
        "id": "hubk9XfgFbRw",
        "outputId": "ae26a42d-b32b-4d93-d0e7-f90ef4b1df23"
      },
      "source": [
        "X.loc[14, 'cyl'] = 14    # index:14, column:'cyl'인 데이터에 최대 경계값 14로 대치\n",
        "\n",
        "print(X.loc[14, 'cyl'])"
      ],
      "execution_count": 38,
      "outputs": [
        {
          "output_type": "stream",
          "name": "stdout",
          "text": [
            "14.0\n"
          ]
        }
      ]
    },
    {
      "cell_type": "code",
      "metadata": {
        "colab": {
          "base_uri": "https://localhost:8080/"
        },
        "id": "HVvyv4MiFvzB",
        "outputId": "4c905ac4-c58f-4d0e-bfd0-7a5a0bda46c5"
      },
      "source": [
        "print(X.loc[X['hp']>305.25])"
      ],
      "execution_count": 39,
      "outputs": [
        {
          "output_type": "stream",
          "name": "stdout",
          "text": [
            "    cyl   disp   hp  drat    wt  qsec  vs      am gear  carb\n",
            "30  8.0  301.0  335  3.54  3.57  14.6   0  manual    5     8\n"
          ]
        }
      ]
    },
    {
      "cell_type": "code",
      "metadata": {
        "colab": {
          "base_uri": "https://localhost:8080/"
        },
        "id": "0RFhkZTHF9qX",
        "outputId": "dde11d27-c3e4-4093-93fa-f25f05e868ed"
      },
      "source": [
        "X.loc[30, 'hp'] = 305.25    # (14, 'hp')데이터에 최대 경계값 305.25로 대치\n",
        "\n",
        "print(X.loc[30, 'hp'])"
      ],
      "execution_count": 40,
      "outputs": [
        {
          "output_type": "stream",
          "name": "stdout",
          "text": [
            "305.25\n"
          ]
        }
      ]
    },
    {
      "cell_type": "code",
      "metadata": {
        "colab": {
          "base_uri": "https://localhost:8080/"
        },
        "id": "LPnF0Px8GTiY",
        "outputId": "f59eb28b-291a-4f0f-dc27-82d25bfc4f6e"
      },
      "source": [
        "print(X_describe.loc['25%'] - 1.5*X_iqr)    # 최소 경계값"
      ],
      "execution_count": 41,
      "outputs": [
        {
          "output_type": "stream",
          "name": "stdout",
          "text": [
            "cyl      -2.000000\n",
            "disp   -186.937500\n",
            "hp      -28.750000\n",
            "drat      1.820000\n",
            "wt        1.038125\n",
            "qsec     14.045000\n",
            "vs       -1.500000\n",
            "carb     -1.000000\n",
            "dtype: float64\n"
          ]
        }
      ]
    },
    {
      "cell_type": "code",
      "metadata": {
        "colab": {
          "base_uri": "https://localhost:8080/"
        },
        "id": "UEA_-lN3GmXS",
        "outputId": "b678710f-576c-4a75-e925-9d3ad94ed4ac"
      },
      "source": [
        "print(X_describe.loc['min'])    # 최솟값 확인 --> 'qsec'에 이상치 존재함."
      ],
      "execution_count": 42,
      "outputs": [
        {
          "output_type": "stream",
          "name": "stdout",
          "text": [
            "cyl      4.000\n",
            "disp    71.100\n",
            "hp      52.000\n",
            "drat     2.760\n",
            "wt       1.513\n",
            "qsec     0.100\n",
            "vs       0.000\n",
            "carb     1.000\n",
            "Name: min, dtype: float64\n"
          ]
        }
      ]
    },
    {
      "cell_type": "markdown",
      "metadata": {
        "id": "rr-oqfieHNzf"
      },
      "source": [
        ""
      ]
    },
    {
      "cell_type": "markdown",
      "metadata": {
        "id": "4Seac10SHOAl"
      },
      "source": [
        "##### 방법2. 평균과 표준편차 활용\n",
        "\n",
        "- 최소 경계값 = 평균 - 1.5*표준편차\n",
        "- 최대 경계값 = 평균 - 1.5*표준편차"
      ]
    },
    {
      "cell_type": "code",
      "metadata": {
        "id": "Qx9Od2ecHULH"
      },
      "source": [
        "# 이상치의 인덱스를 반환하는 함수\n",
        "def outlier(data, column):\n",
        "  mean = data[column].mean()\n",
        "  std = data[column].std()\n",
        "  lowest = mean - 1.5*std\n",
        "  highest = mean + 1.5*std\n",
        "  print('최소경계값: ', lowest, '최대경계값: ', highest)\n",
        "  \n",
        "  outlier_index = data[column][(data[column]<lowest)|(data[column]>highest)].index\n",
        "  return outlier_index"
      ],
      "execution_count": 43,
      "outputs": []
    },
    {
      "cell_type": "code",
      "metadata": {
        "colab": {
          "base_uri": "https://localhost:8080/"
        },
        "id": "SM5jTgIpImt9",
        "outputId": "3ab0a02a-9d93-4c68-890d-45374e7f528a"
      },
      "source": [
        "print(outlier(X, 'qsec'))"
      ],
      "execution_count": 44,
      "outputs": [
        {
          "output_type": "stream",
          "name": "stdout",
          "text": [
            "최소경계값:  -2.8043094560577657 최대경계값:  42.39618445605777\n",
            "Int64Index([24], dtype='int64')\n"
          ]
        }
      ]
    },
    {
      "cell_type": "code",
      "metadata": {
        "colab": {
          "base_uri": "https://localhost:8080/"
        },
        "id": "L0L7Ub0vI2e5",
        "outputId": "33477620-92f4-4975-8599-11bf8ed20e2b"
      },
      "source": [
        "print(X.loc[24, 'qsec'])    # 이상치 확인"
      ],
      "execution_count": 45,
      "outputs": [
        {
          "output_type": "stream",
          "name": "stdout",
          "text": [
            "100.0\n"
          ]
        }
      ]
    },
    {
      "cell_type": "code",
      "metadata": {
        "colab": {
          "base_uri": "https://localhost:8080/"
        },
        "id": "07GuXyr5JHuT",
        "outputId": "51e7a665-9b55-45ca-e2a6-0bc35da8efc9"
      },
      "source": [
        "X.loc[24, 'qsec'] = 42.396    # 이상치를 최대경계값으로 대치\n",
        "\n",
        "print(X.loc[24, 'qsec'])"
      ],
      "execution_count": 46,
      "outputs": [
        {
          "output_type": "stream",
          "name": "stdout",
          "text": [
            "42.396\n"
          ]
        }
      ]
    },
    {
      "cell_type": "code",
      "metadata": {
        "colab": {
          "base_uri": "https://localhost:8080/"
        },
        "id": "3bXhbSuYJmtF",
        "outputId": "befcb0ba-035a-40c9-aa34-da5b2029d931"
      },
      "source": [
        "print(outlier(X, 'carb'))"
      ],
      "execution_count": 47,
      "outputs": [
        {
          "output_type": "stream",
          "name": "stdout",
          "text": [
            "최소경계값:  0.3897000335522218 최대경계값:  5.235299966447778\n",
            "Int64Index([29, 30], dtype='int64')\n"
          ]
        }
      ]
    },
    {
      "cell_type": "code",
      "metadata": {
        "colab": {
          "base_uri": "https://localhost:8080/"
        },
        "id": "fFuHkzQ3Jqo1",
        "outputId": "9702b35b-225c-43ee-e40e-1dee6629a52f"
      },
      "source": [
        "print(X.loc[29, 'carb'])\n",
        "print(X.loc[30, 'carb'])"
      ],
      "execution_count": 48,
      "outputs": [
        {
          "output_type": "stream",
          "name": "stdout",
          "text": [
            "6\n",
            "8\n"
          ]
        }
      ]
    },
    {
      "cell_type": "code",
      "metadata": {
        "colab": {
          "base_uri": "https://localhost:8080/"
        },
        "id": "Kx1gfQKFJxgR",
        "outputId": "5954f442-9013-443e-c2b9-a6e2e7caaf01"
      },
      "source": [
        "outlier_carb = outlier(X, 'carb')\n",
        "\n",
        "X.loc[outlier_carb, 'carb'] = 5.235    # 한 번에 변경"
      ],
      "execution_count": 49,
      "outputs": [
        {
          "output_type": "stream",
          "name": "stdout",
          "text": [
            "최소경계값:  0.3897000335522218 최대경계값:  5.235299966447778\n"
          ]
        }
      ]
    },
    {
      "cell_type": "code",
      "metadata": {
        "colab": {
          "base_uri": "https://localhost:8080/"
        },
        "id": "WMiNpTcDKqwK",
        "outputId": "3f6d6068-4109-4184-f75c-ef0b318a5e3f"
      },
      "source": [
        "print(X.loc[29, 'carb'])\n",
        "print(X.loc[30, 'carb'])"
      ],
      "execution_count": 50,
      "outputs": [
        {
          "output_type": "stream",
          "name": "stdout",
          "text": [
            "5.235\n",
            "5.235\n"
          ]
        }
      ]
    },
    {
      "cell_type": "markdown",
      "metadata": {
        "id": "Lvp6tRW1L31a"
      },
      "source": [
        "#### 5. 데이터를 동일한 범위로 맞추기(데이터 스케일링)\n",
        "\n",
        "- 데이터 스케일링이 필요한 이유: 머신러닝 결과가 왜곡되지 않고, 특정한 독립변수를 무시하지 않게 하기 위함.\n",
        "- 데이터의 특성에 따라 모든 독립변수를 같은 범위로 스케일링하지 않는 경우가 좋은 성능을 갖는 결과를 도출할 수도 있다.\n",
        "\n",
        "<br>\n",
        "\n",
        "주로 사용하는 데이터 스케일링 유형\n",
        "- 표준 크기변환(Standard Scaling): 평균이 0, 표준편차가 1이 되도록 변환.\n",
        "- 최소-최대 크기변환(Min-Max Scaling): 최솟값이 0, 최댓값이 1이 되도록 변환.\n",
        "- 로버스트 크기변환(Robust Scaling): 중앙값이 0, IQR이 1이 되도록 변환.\n",
        "\n",
        "<br>\n",
        "=> sklearn 라이브러리 사용"
      ]
    },
    {
      "cell_type": "markdown",
      "metadata": {
        "id": "DfI8IbiVNGy4"
      },
      "source": [
        "##### 방법1. 표준 크기변환(Standard Scaler)"
      ]
    },
    {
      "cell_type": "code",
      "metadata": {
        "id": "XMhZL5LRMjjz"
      },
      "source": [
        "from sklearn.preprocessing import StandardScaler\n",
        "\n",
        "temp = X[['qsec']]    # 특정 열만 추출"
      ],
      "execution_count": 54,
      "outputs": []
    },
    {
      "cell_type": "code",
      "metadata": {
        "colab": {
          "base_uri": "https://localhost:8080/"
        },
        "id": "RwwJopW4NYRI",
        "outputId": "19992a64-c90c-41d3-d790-6f6b8a5fa80b"
      },
      "source": [
        "scaler = StandardScaler()    # scaler객체 생성\n",
        "\n",
        "print(scaler.fit_transform(temp))    # fit_transform함수로 크기변환 수행"
      ],
      "execution_count": 55,
      "outputs": [
        {
          "output_type": "stream",
          "name": "stdout",
          "text": [
            "[[-2.73145534e-01]\n",
            " [-1.73549067e-01]\n",
            " [ 1.09233759e-01]\n",
            " [-3.18278518e+00]\n",
            " [-1.73549067e-01]\n",
            " [ 3.95573602e-01]\n",
            " [-3.83413051e-01]\n",
            " [ 3.56446419e-01]\n",
            " [ 8.72213838e-01]\n",
            " [ 5.41000006e-02]\n",
            " [-7.03955833e-02]\n",
            " [-1.05965750e-01]\n",
            " [-7.03955833e-02]\n",
            " [ 7.44750368e-04]\n",
            " [-2.81226632e-03]\n",
            " [-3.12683998e-02]\n",
            " [-1.02408733e-01]\n",
            " [ 2.62185477e-01]\n",
            " [ 9.32271841e-02]\n",
            " [ 3.38661335e-01]\n",
            " [ 3.58224927e-01]\n",
            " [-2.00226692e-01]\n",
            " [-1.23750834e-01]\n",
            " [-4.59888910e-01]\n",
            " [ 4.33959370e+00]\n",
            " [ 1.60810501e-01]\n",
            " [-2.30461334e-01]\n",
            " [-1.94891167e-01]\n",
            " [-6.21733169e-01]\n",
            " [-4.43882335e-01]\n",
            " [-6.03948086e-01]\n",
            " [ 1.07455251e-01]]\n"
          ]
        }
      ]
    },
    {
      "cell_type": "code",
      "metadata": {
        "colab": {
          "base_uri": "https://localhost:8080/"
        },
        "id": "onFaPHaOLEBx",
        "outputId": "f8017295-8a99-4b8d-ae4f-2c93b72cdd75"
      },
      "source": [
        "qsec_standardScaler = pd.DataFrame(scaler.fit_transform(temp))    # fit_transfore결과f를 DataFrame으로 저장\n",
        "\n",
        "print(qsec_standardScaler.describe())    # 기초통계량\n",
        "\n",
        "# 평균: 8.066464 * 10^(-17) 이므로 0에 근사함.\n",
        "# 표준편차: 1.016001 * 10^(0) 이므로 1에 근사함."
      ],
      "execution_count": 56,
      "outputs": [
        {
          "output_type": "stream",
          "name": "stdout",
          "text": [
            "                  0\n",
            "count  3.200000e+01\n",
            "mean   8.066464e-17\n",
            "std    1.016001e+00\n",
            "min   -3.182785e+00\n",
            "25%   -2.077854e-01\n",
            "50%   -7.039558e-02\n",
            "75%    1.221279e-01\n",
            "max    4.339594e+00\n"
          ]
        }
      ]
    },
    {
      "cell_type": "markdown",
      "metadata": {
        "id": "Ldymvtk8PeuV"
      },
      "source": [
        "##### 방법2. 최소-최대 크기변환(MinMaxScaler)"
      ]
    },
    {
      "cell_type": "code",
      "metadata": {
        "id": "yJHVN_nsL8l_"
      },
      "source": [
        "from sklearn.preprocessing import MinMaxScaler\n",
        "\n",
        "temp = X[['qsec']]    # 특정 열 추출"
      ],
      "execution_count": 57,
      "outputs": []
    },
    {
      "cell_type": "code",
      "metadata": {
        "colab": {
          "base_uri": "https://localhost:8080/"
        },
        "id": "xQ8JsGr3QE_m",
        "outputId": "226ecf73-3c8f-4f82-a04e-596e45086d45"
      },
      "source": [
        "scaler = MinMaxScaler()    # scaler객체 생성\n",
        "\n",
        "qsec_minmaxScaler = pd.DataFrame(scaler.fit_transform(temp))    # fit_transform으로 크기변환 후 DataFrame으로 저장\n",
        "\n",
        "print(qsec_standardScaler)"
      ],
      "execution_count": 58,
      "outputs": [
        {
          "output_type": "stream",
          "name": "stdout",
          "text": [
            "           0\n",
            "0  -0.273146\n",
            "1  -0.173549\n",
            "2   0.109234\n",
            "3  -3.182785\n",
            "4  -0.173549\n",
            "5   0.395574\n",
            "6  -0.383413\n",
            "7   0.356446\n",
            "8   0.872214\n",
            "9   0.054100\n",
            "10 -0.070396\n",
            "11 -0.105966\n",
            "12 -0.070396\n",
            "13  0.000745\n",
            "14 -0.002812\n",
            "15 -0.031268\n",
            "16 -0.102409\n",
            "17  0.262185\n",
            "18  0.093227\n",
            "19  0.338661\n",
            "20  0.358225\n",
            "21 -0.200227\n",
            "22 -0.123751\n",
            "23 -0.459889\n",
            "24  4.339594\n",
            "25  0.160811\n",
            "26 -0.230461\n",
            "27 -0.194891\n",
            "28 -0.621733\n",
            "29 -0.443882\n",
            "30 -0.603948\n",
            "31  0.107455\n"
          ]
        }
      ]
    },
    {
      "cell_type": "code",
      "metadata": {
        "colab": {
          "base_uri": "https://localhost:8080/"
        },
        "id": "Lp7TTSmfRNyu",
        "outputId": "a7a22574-b895-4270-a362-6aceccfda2ee"
      },
      "source": [
        "print(qsec_minmaxScaler.describe())    # 스케링링 후 기초통계량\n",
        "\n",
        "# 최솟값: 0\n",
        "# 최댓값: 1"
      ],
      "execution_count": 59,
      "outputs": [
        {
          "output_type": "stream",
          "name": "stdout",
          "text": [
            "               0\n",
            "count  32.000000\n",
            "mean    0.423109\n",
            "std     0.135064\n",
            "min     0.000000\n",
            "25%     0.395487\n",
            "50%     0.413751\n",
            "75%     0.439344\n",
            "max     1.000000\n"
          ]
        }
      ]
    },
    {
      "cell_type": "markdown",
      "metadata": {
        "id": "yWV4r1fJRXq9"
      },
      "source": [
        "##### 방법3. 로버스트 크기변환(RobustScaler)\n",
        "\n",
        "- 이상치의 영향을 잘 받지 않기 때문에 일반적으로 활용하는 변환 기법이다."
      ]
    },
    {
      "cell_type": "code",
      "metadata": {
        "colab": {
          "base_uri": "https://localhost:8080/"
        },
        "id": "Sgrxss3sSZQc",
        "outputId": "3b193c9b-99ac-4246-ea3e-9b68c16024a6"
      },
      "source": [
        "from sklearn.preprocessing import RobustScaler\n",
        "\n",
        "temp = X[['qsec']]\n",
        "\n",
        "scaler = RobustScaler()    # scaler객체 생성\n",
        "\n",
        "qsec_robustScaler = pd.DataFrame(scaler.fit_transform(temp))    # scaling 후 dataframe으로 저장\n",
        "\n",
        "print(qsec_robustScaler.describe())    # scaling 후 기초통계량 확인\n",
        "\n",
        "# 중앙값: 0\n",
        "# IQR: Q3-Q1 = 0.583558 - (-0.416442) = 1"
      ],
      "execution_count": 61,
      "outputs": [
        {
          "output_type": "stream",
          "name": "stdout",
          "text": [
            "               0\n",
            "count  32.000000\n",
            "mean    0.213376\n",
            "std     3.079600\n",
            "min    -9.433962\n",
            "25%    -0.416442\n",
            "50%     0.000000\n",
            "75%     0.583558\n",
            "max    13.367116\n"
          ]
        }
      ]
    },
    {
      "cell_type": "markdown",
      "metadata": {
        "id": "Hi9Y1ruzUMJP"
      },
      "source": [
        "#### 6. 데이터 타입 변경하기"
      ]
    },
    {
      "cell_type": "code",
      "metadata": {
        "colab": {
          "base_uri": "https://localhost:8080/"
        },
        "id": "DexKKHNlVFBe",
        "outputId": "99200215-c43e-40c4-cfe2-a96b1be6fcfe"
      },
      "source": [
        "print(X.info())    # 요약정보를 통해 범주형 변수(object, string), 연속형 변수(int64, float64)으로 적합하게 설정되어 있는지 확인\n",
        "                   # astype()함수로 데이터 타입 변경"
      ],
      "execution_count": 63,
      "outputs": [
        {
          "output_type": "stream",
          "name": "stdout",
          "text": [
            "<class 'pandas.core.frame.DataFrame'>\n",
            "RangeIndex: 32 entries, 0 to 31\n",
            "Data columns (total 10 columns):\n",
            " #   Column  Non-Null Count  Dtype  \n",
            "---  ------  --------------  -----  \n",
            " 0   cyl     32 non-null     float64\n",
            " 1   disp    32 non-null     float64\n",
            " 2   hp      32 non-null     float64\n",
            " 3   drat    32 non-null     float64\n",
            " 4   wt      32 non-null     float64\n",
            " 5   qsec    32 non-null     float64\n",
            " 6   vs      32 non-null     int64  \n",
            " 7   am      32 non-null     object \n",
            " 8   gear    32 non-null     object \n",
            " 9   carb    32 non-null     float64\n",
            "dtypes: float64(7), int64(1), object(2)\n",
            "memory usage: 2.6+ KB\n",
            "None\n"
          ]
        }
      ]
    },
    {
      "cell_type": "code",
      "metadata": {
        "colab": {
          "base_uri": "https://localhost:8080/"
        },
        "id": "BGQ4ycCsWKby",
        "outputId": "916cbb82-5abd-4a84-ee2a-97fd0601c8ef"
      },
      "source": [
        "X['gear'].unique()    # 수치형 데이터 이므로 데이터 변환 필요"
      ],
      "execution_count": 65,
      "outputs": [
        {
          "output_type": "execute_result",
          "data": {
            "text/plain": [
              "array(['4', '3', '5'], dtype=object)"
            ]
          },
          "metadata": {},
          "execution_count": 65
        }
      ]
    },
    {
      "cell_type": "code",
      "metadata": {
        "colab": {
          "base_uri": "https://localhost:8080/"
        },
        "id": "9jxvy58FWToF",
        "outputId": "f47f2b15-bf5b-4c12-d6dc-21fd1d685696"
      },
      "source": [
        "X['gear'] = X['gear'].astype('int64')\n",
        "\n",
        "print(X['gear'].dtype)"
      ],
      "execution_count": 66,
      "outputs": [
        {
          "output_type": "stream",
          "name": "stdout",
          "text": [
            "int64\n"
          ]
        }
      ]
    },
    {
      "cell_type": "markdown",
      "metadata": {
        "id": "AZWbrXD4Wd0Q"
      },
      "source": [
        "#### 7.범주형을 수치형으로 변경하기 (encoding)\n",
        "\n",
        "- 컴퓨터가 이해하기 어려운 문자열 데이터는 숫자형으로 변경해야 한다. 이 과정을 **인코딩**이라고 한다.\n",
        "- 인코딩을 수행하는 방법은 크게 '원핫인코딩'과 '라벨인코딩'으로 구분한다.\n",
        "\n",
        "<br>\n",
        "\n",
        "\n",
        "- 원핫 인코딩: 각 범주형 데이터를 개별 열로 만들고, 각 열에 해당하는 값에만 1로 설정하고 그 외는 0으로 설정한다.\n",
        "- 라벨 인코딩: 단순히 범주형 데이터에 일련번호를 부여하여 수치형 데이터로 변경한다."
      ]
    },
    {
      "cell_type": "markdown",
      "metadata": {
        "id": "JG-ZfuIpXbN-"
      },
      "source": [
        "##### 방법1. 원핫인코딩(Ont-Hot Encoding)\n",
        "\n",
        "- 범주형 데이터를 함축된 의미를 유지한 채 숫자형 데이터로 변경\n",
        "- 라벨 인코딩보다 결과의 왜곡이 적고 변환된 값의 서열이 없다는 특징이 있어 주로 사용되는 인코딩 방식이다."
      ]
    },
    {
      "cell_type": "code",
      "metadata": {
        "colab": {
          "base_uri": "https://localhost:8080/"
        },
        "id": "nBYsRyfCZXV9",
        "outputId": "2412c671-32db-46f8-8c37-cf27db196c72"
      },
      "source": [
        "print(X.head())"
      ],
      "execution_count": 67,
      "outputs": [
        {
          "output_type": "stream",
          "name": "stdout",
          "text": [
            "   cyl   disp     hp  drat     wt   qsec  vs      am  gear  carb\n",
            "0  6.0  160.0  110.0  3.90  2.620  16.46   0  manual     4   4.0\n",
            "1  6.0  160.0  110.0  3.90  2.875  17.02   0  manual     4   4.0\n",
            "2  4.0  108.0   93.0  3.85  2.320  18.61   1  manual     4   1.0\n",
            "3  6.0  258.0  110.0  3.08  3.215   0.10   1    auto     3   1.0\n",
            "4  8.0  360.0  175.0  3.15  3.440  17.02   0    auto     3   2.0\n"
          ]
        }
      ]
    },
    {
      "cell_type": "code",
      "metadata": {
        "colab": {
          "base_uri": "https://localhost:8080/"
        },
        "id": "bhG79VW6ZZWu",
        "outputId": "397d99d0-5bca-42c3-ab73-39106c3adb3c"
      },
      "source": [
        "print(X['am'].unique())"
      ],
      "execution_count": 68,
      "outputs": [
        {
          "output_type": "stream",
          "name": "stdout",
          "text": [
            "['manual' 'auto']\n"
          ]
        }
      ]
    },
    {
      "cell_type": "code",
      "metadata": {
        "colab": {
          "base_uri": "https://localhost:8080/"
        },
        "id": "Z1vxysNrZcgA",
        "outputId": "7dcafdd6-a6ce-4e29-ee5b-abc299059d1f"
      },
      "source": [
        "print(pd.get_dummies(X['am']))    # 특정 열에 대해 원핫 인토딩 수행"
      ],
      "execution_count": 69,
      "outputs": [
        {
          "output_type": "stream",
          "name": "stdout",
          "text": [
            "    auto  manual\n",
            "0      0       1\n",
            "1      0       1\n",
            "2      0       1\n",
            "3      1       0\n",
            "4      1       0\n",
            "5      1       0\n",
            "6      1       0\n",
            "7      1       0\n",
            "8      1       0\n",
            "9      1       0\n",
            "10     1       0\n",
            "11     1       0\n",
            "12     1       0\n",
            "13     1       0\n",
            "14     1       0\n",
            "15     1       0\n",
            "16     1       0\n",
            "17     0       1\n",
            "18     0       1\n",
            "19     0       1\n",
            "20     1       0\n",
            "21     1       0\n",
            "22     1       0\n",
            "23     1       0\n",
            "24     1       0\n",
            "25     0       1\n",
            "26     0       1\n",
            "27     0       1\n",
            "28     0       1\n",
            "29     0       1\n",
            "30     0       1\n",
            "31     0       1\n"
          ]
        }
      ]
    },
    {
      "cell_type": "markdown",
      "metadata": {
        "id": "LKKkohIMZqiW"
      },
      "source": [
        "이제 열이 2개씩이나 필요없어졌으므로 get_dummies()에 drop_first = True 옵션을 추가하여 첫 번째 열을 삭제한다."
      ]
    },
    {
      "cell_type": "code",
      "metadata": {
        "colab": {
          "base_uri": "https://localhost:8080/"
        },
        "id": "k3wfCIvlZ5uA",
        "outputId": "8012ae53-654c-427b-e3e3-d029d8fa19cd"
      },
      "source": [
        "print(pd.get_dummies(X['am'], drop_first=True))"
      ],
      "execution_count": 70,
      "outputs": [
        {
          "output_type": "stream",
          "name": "stdout",
          "text": [
            "    manual\n",
            "0        1\n",
            "1        1\n",
            "2        1\n",
            "3        0\n",
            "4        0\n",
            "5        0\n",
            "6        0\n",
            "7        0\n",
            "8        0\n",
            "9        0\n",
            "10       0\n",
            "11       0\n",
            "12       0\n",
            "13       0\n",
            "14       0\n",
            "15       0\n",
            "16       0\n",
            "17       1\n",
            "18       1\n",
            "19       1\n",
            "20       0\n",
            "21       0\n",
            "22       0\n",
            "23       0\n",
            "24       0\n",
            "25       1\n",
            "26       1\n",
            "27       1\n",
            "28       1\n",
            "29       1\n",
            "30       1\n",
            "31       1\n"
          ]
        }
      ]
    },
    {
      "cell_type": "markdown",
      "metadata": {
        "id": "rMB_mz3TaDVu"
      },
      "source": [
        "이번엔 전체 열에 대해 원핫인코딩을 해보자.\n",
        "\n",
        "get_dummies()함수는 기본적으로 범주형 데이터만 고라서 인코딩 처리를 수행한다."
      ]
    },
    {
      "cell_type": "code",
      "metadata": {
        "colab": {
          "base_uri": "https://localhost:8080/"
        },
        "id": "_efHvX1RaMgF",
        "outputId": "873ac210-3506-4578-c41d-375cd94f046c"
      },
      "source": [
        "print(X.info())"
      ],
      "execution_count": 71,
      "outputs": [
        {
          "output_type": "stream",
          "name": "stdout",
          "text": [
            "<class 'pandas.core.frame.DataFrame'>\n",
            "RangeIndex: 32 entries, 0 to 31\n",
            "Data columns (total 10 columns):\n",
            " #   Column  Non-Null Count  Dtype  \n",
            "---  ------  --------------  -----  \n",
            " 0   cyl     32 non-null     float64\n",
            " 1   disp    32 non-null     float64\n",
            " 2   hp      32 non-null     float64\n",
            " 3   drat    32 non-null     float64\n",
            " 4   wt      32 non-null     float64\n",
            " 5   qsec    32 non-null     float64\n",
            " 6   vs      32 non-null     int64  \n",
            " 7   am      32 non-null     object \n",
            " 8   gear    32 non-null     int64  \n",
            " 9   carb    32 non-null     float64\n",
            "dtypes: float64(7), int64(2), object(1)\n",
            "memory usage: 2.6+ KB\n",
            "None\n"
          ]
        }
      ]
    },
    {
      "cell_type": "code",
      "metadata": {
        "colab": {
          "base_uri": "https://localhost:8080/"
        },
        "id": "Rn_tGbwfaOxP",
        "outputId": "ceffa7f9-bd55-48d8-8ccc-33a5405d6d58"
      },
      "source": [
        "print(pd.get_dummies(X, drop_first=True))"
      ],
      "execution_count": 73,
      "outputs": [
        {
          "output_type": "stream",
          "name": "stdout",
          "text": [
            "     cyl   disp      hp  drat     wt    qsec  vs  gear   carb  am_manual\n",
            "0    6.0  160.0  110.00  3.90  2.620  16.460   0     4  4.000          1\n",
            "1    6.0  160.0  110.00  3.90  2.875  17.020   0     4  4.000          1\n",
            "2    4.0  108.0   93.00  3.85  2.320  18.610   1     4  1.000          1\n",
            "3    6.0  258.0  110.00  3.08  3.215   0.100   1     3  1.000          0\n",
            "4    8.0  360.0  175.00  3.15  3.440  17.020   0     3  2.000          0\n",
            "5    6.0  225.0  105.00  2.76  3.460  20.220   1     3  1.000          0\n",
            "6    8.0  360.0  245.00  3.21  3.570  15.840   0     3  4.000          0\n",
            "7    7.6  146.7   62.00  3.69  3.190  20.000   1     4  2.000          0\n",
            "8    4.0  140.8   95.00  3.92  3.150  22.900   1     4  2.000          0\n",
            "9    6.0  167.6  123.00  3.92  3.440  18.300   1     4  4.000          0\n",
            "10   6.0  167.6  123.00  3.92  3.440  17.600   1     4  4.000          0\n",
            "11   8.0  275.8  180.00  3.07  4.070  17.400   0     3  3.000          0\n",
            "12   8.0  275.8  180.00  3.07  3.730  17.600   0     3  3.000          0\n",
            "13   8.0  275.8  180.00  3.07  3.780  18.000   0     3  3.000          0\n",
            "14  14.0  472.0  205.00  2.93  5.250  17.980   0     3  4.000          0\n",
            "15   8.0  460.0  215.00  3.00  5.424  17.820   0     3  4.000          0\n",
            "16   8.0  440.0  230.00  3.23  5.345  17.420   0     3  4.000          0\n",
            "17   4.0   78.7   66.00  4.08  2.200  19.470   1     4  1.000          1\n",
            "18   4.0   75.7   52.00  4.93  1.615  18.520   1     4  2.000          1\n",
            "19   4.0   71.1   65.00  4.22  1.835  19.900   1     4  1.000          1\n",
            "20   4.0  120.1   97.00  3.70  2.465  20.010   1     3  1.000          0\n",
            "21   8.0  318.0  150.00  2.76  3.520  16.870   0     3  2.000          0\n",
            "22   8.0  304.0  150.00  3.15  3.435  17.300   0     3  2.000          0\n",
            "23   8.0  350.0  245.00  3.73  3.840  15.410   0     3  4.000          0\n",
            "24   7.6  400.0  175.00  3.08  3.845  42.396   0     3  2.000          0\n",
            "25   4.0   79.0   66.00  4.08  1.935  18.900   1     4  1.000          1\n",
            "26   4.0  120.3   91.00  4.43  2.140  16.700   0     5  2.000          1\n",
            "27   4.0   95.1  113.00  3.77  1.513  16.900   1     5  2.000          1\n",
            "28   8.0  351.0  264.00  4.22  3.170  14.500   0     5  4.000          1\n",
            "29   6.0  145.0  175.00  3.62  2.770  15.500   0     5  5.235          1\n",
            "30   8.0  301.0  305.25  3.54  3.570  14.600   0     5  5.235          1\n",
            "31   4.0  121.0  109.00  4.11  2.780  18.600   1     4  2.000          1\n"
          ]
        }
      ]
    },
    {
      "cell_type": "markdown",
      "metadata": {
        "id": "aML_jPZMalSO"
      },
      "source": [
        "##### 방법2. 라벨 인코딩(Label Encoding)\n",
        "\n",
        "- 범주형 변수에 일련번호를 부여하는 방식의 연속형 변수로 변환하는 방식\n",
        "- 변환하는 숫자의 크기가 점점 커지므로 값이 크고 작음에 따라 모델의 성능에 민감하게 작동하기 때문에 **트리 계열의 데이터분석**에만 제약적으로 사용된다."
      ]
    },
    {
      "cell_type": "code",
      "metadata": {
        "colab": {
          "base_uri": "https://localhost:8080/"
        },
        "id": "anCkoUVPa5ht",
        "outputId": "39ce4947-75d7-4ca2-be39-0bb84a44ff70"
      },
      "source": [
        "print(X['am'].head())"
      ],
      "execution_count": 74,
      "outputs": [
        {
          "output_type": "stream",
          "name": "stdout",
          "text": [
            "0    manual\n",
            "1    manual\n",
            "2    manual\n",
            "3      auto\n",
            "4      auto\n",
            "Name: am, dtype: object\n"
          ]
        }
      ]
    },
    {
      "cell_type": "code",
      "metadata": {
        "colab": {
          "base_uri": "https://localhost:8080/"
        },
        "id": "FgijRAJ_a7V_",
        "outputId": "1dc1f525-5769-439f-b7a0-f2f31311faa8"
      },
      "source": [
        "from sklearn.preprocessing import LabelEncoder\n",
        "\n",
        "encoder = LabelEncoder()\n",
        "\n",
        "print(encoder.fit_transform(X['am']))    # 변환 수행"
      ],
      "execution_count": 75,
      "outputs": [
        {
          "output_type": "stream",
          "name": "stdout",
          "text": [
            "[1 1 1 0 0 0 0 0 0 0 0 0 0 0 0 0 0 1 1 1 0 0 0 0 0 1 1 1 1 1 1 1]\n"
          ]
        }
      ]
    },
    {
      "cell_type": "markdown",
      "metadata": {
        "id": "5xPO8EWvcLbO"
      },
      "source": [
        "##### 방법3. 수동 인코딩 (Replace)\n",
        "\n",
        "- 데이터 값의 종류가 많지 않은 경우(이진데이터) replace()함수를 사용하여 인코딩\n",
        "- 이진 데이터 (ex. 합격/불합격, 신청/미신청)"
      ]
    },
    {
      "cell_type": "code",
      "metadata": {
        "colab": {
          "base_uri": "https://localhost:8080/"
        },
        "id": "IaG0zWg6cchb",
        "outputId": "3faf3027-5c2f-48f1-9bbd-8f4673803808"
      },
      "source": [
        "X['am_new'] = X['am'].replace('manual', 0).replace('auto', 1)\n",
        "\n",
        "print(X.head())"
      ],
      "execution_count": 76,
      "outputs": [
        {
          "output_type": "stream",
          "name": "stdout",
          "text": [
            "   cyl   disp     hp  drat     wt   qsec  vs      am  gear  carb  am_new\n",
            "0  6.0  160.0  110.0  3.90  2.620  16.46   0  manual     4   4.0       0\n",
            "1  6.0  160.0  110.0  3.90  2.875  17.02   0  manual     4   4.0       0\n",
            "2  4.0  108.0   93.0  3.85  2.320  18.61   1  manual     4   1.0       0\n",
            "3  6.0  258.0  110.0  3.08  3.215   0.10   1    auto     3   1.0       1\n",
            "4  8.0  360.0  175.0  3.15  3.440  17.02   0    auto     3   2.0       1\n"
          ]
        }
      ]
    }
  ]
}